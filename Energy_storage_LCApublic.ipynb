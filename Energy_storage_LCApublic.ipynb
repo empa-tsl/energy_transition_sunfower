{
 "cells": [
  {
   "cell_type": "markdown",
   "metadata": {},
   "source": [
    "# Energy storage LCA\n",
    "Desing Harald, Empa - Swiss Federal Laboratories for Material Science and Technology, St.Gallen, Switzerland\n",
    "harald.desing@empa.ch\n",
    "\n",
    "LCA of different energy storage options\n",
    "- calculating life cycle embodied energy per storage capacity\n",
    "- resource demand (metals, ...)\n",
    "- turnaround efficiency"
   ]
  },
  {
   "cell_type": "code",
   "execution_count": 2,
   "metadata": {},
   "outputs": [],
   "source": [
    "import os\n",
    "import matplotlib.pyplot as plt\n",
    "import numpy as np\n",
    "import pandas as pd\n",
    "\n",
    "\n",
    "import brightway2 as bw\n",
    "from brightway2 import *"
   ]
  },
  {
   "cell_type": "code",
   "execution_count": 5,
   "metadata": {},
   "outputs": [],
   "source": [
    "bw.projects.set_current('Energy_storage_LCA')  # creates and sets a project"
   ]
  },
  {
   "cell_type": "markdown",
   "metadata": {},
   "source": [
    "Setting up databases"
   ]
  },
  {
   "cell_type": "code",
   "execution_count": 7,
   "metadata": {
    "scrolled": true
   },
   "outputs": [
    {
     "name": "stdout",
     "output_type": "stream",
     "text": [
      "Biosphere database already present!!! No setup is needed\n"
     ]
    }
   ],
   "source": [
    "bw.bw2setup()"
   ]
  },
  {
   "cell_type": "code",
   "execution_count": 8,
   "metadata": {},
   "outputs": [
    {
     "name": "stdout",
     "output_type": "stream",
     "text": [
      "ecoinvent 3.7.1 cutoff database already present!!! No import is needed\n"
     ]
    }
   ],
   "source": [
    "ei37_path = '<<<yourpath>>>/ecoinvent_3.7.1_cutoff_ecoSpold02/datasets'  \n",
    "ei37_name = \"ecoinvent 3.7.1 cutoff\"  \n",
    "if ei37_name in bw.databases:\n",
    "    print(ei37_name + \" database already present!!! No import is needed\")\n",
    "else:\n",
    "    ei37 = bw.SingleOutputEcospold2Importer(ei37_path, ei37_name)\n",
    "    ei37.apply_strategies()\n",
    "    ei37.match_database(db_name='biosphere3',fields=('name', 'category', 'unit', 'location'))\n",
    "    ei37.statistics()"
   ]
  },
  {
   "cell_type": "code",
   "execution_count": 9,
   "metadata": {},
   "outputs": [
    {
     "name": "stdout",
     "output_type": "stream",
     "text": [
      "ecoinvent 3.7.1 cutoff database already present!!! No import is needed\n"
     ]
    }
   ],
   "source": [
    "if ei37_name in bw.databases:\n",
    "    print(ei37_name + \" database already present!!! No import is needed\")\n",
    "else:\n",
    "    ei37.write_database()\n",
    "    ei37 = None"
   ]
  },
  {
   "cell_type": "code",
   "execution_count": 10,
   "metadata": {},
   "outputs": [],
   "source": [
    "bio = bw.Database(\"biosphere3\")\n",
    "ei = bw.Database(\"ecoinvent 3.7.1 cutoff\")"
   ]
  },
  {
   "cell_type": "markdown",
   "metadata": {},
   "source": [
    "## Methods\n",
    "Chosing methods for impact assessment"
   ]
  },
  {
   "cell_type": "code",
   "execution_count": 12,
   "metadata": {},
   "outputs": [],
   "source": [
    "CED = [method for method in bw.methods if \"cumulative energy demand\" in str(method) and 'total' not in str(method)]\n",
    "#CED"
   ]
  },
  {
   "cell_type": "code",
   "execution_count": 13,
   "metadata": {},
   "outputs": [
    {
     "data": {
      "text/plain": [
       "8"
      ]
     },
     "execution_count": 13,
     "metadata": {},
     "output_type": "execute_result"
    }
   ],
   "source": [
    "len(CED)"
   ]
  },
  {
   "cell_type": "markdown",
   "metadata": {},
   "source": [
    "Creating new methods for CED and CED_el"
   ]
  },
  {
   "cell_type": "code",
   "execution_count": 14,
   "metadata": {},
   "outputs": [
    {
     "name": "stdout",
     "output_type": "stream",
     "text": [
      "Brightway2 Method: cumulative energy demand: total: energy resources, total\n"
     ]
    },
    {
     "data": {
      "text/plain": [
       "{'abbreviation': 'cumulative-energy-demandte.d20dc835ba5058abe813aff100f031ea',\n",
       " 'unit': 'MJ-eq',\n",
       " 'description': 'Total of all cumulative energy demand methods',\n",
       " 'num_cfs': 13}"
      ]
     },
     "execution_count": 14,
     "metadata": {},
     "output_type": "execute_result"
    }
   ],
   "source": [
    "bw.Method(('cumulative energy demand', 'total', 'energy resources, total')).register()\n",
    "CED_total = bw.Method(('cumulative energy demand', 'total', 'energy resources, total'))\n",
    "print(CED_total)\n",
    "CED_total.metadata['unit'] = 'MJ-eq'\n",
    "CED_total.metadata['description'] = 'Total of all cumulative energy demand methods'\n",
    "CED_total.metadata"
   ]
  },
  {
   "cell_type": "markdown",
   "metadata": {},
   "source": [
    "Creating a list of characterisation factors from all cumulative energy demand methods"
   ]
  },
  {
   "cell_type": "code",
   "execution_count": 15,
   "metadata": {},
   "outputs": [
    {
     "data": {
      "text/plain": [
       "13"
      ]
     },
     "execution_count": 15,
     "metadata": {},
     "output_type": "execute_result"
    }
   ],
   "source": [
    "cfs = []\n",
    "for m in bw.methods:\n",
    "    if \"cumulative energy demand\" in str(m) and 'total' not in str(m):\n",
    "        method = bw.Method(m)\n",
    "        for flow, cf in method.load():\n",
    "            cfs.append((bw.get_activity(flow), cf))\n",
    "len(cfs)"
   ]
  },
  {
   "cell_type": "markdown",
   "metadata": {},
   "source": [
    "Writing these CFs to the new method"
   ]
  },
  {
   "cell_type": "code",
   "execution_count": 16,
   "metadata": {},
   "outputs": [
    {
     "name": "stdout",
     "output_type": "stream",
     "text": [
      "{'abbreviation': 'cumulative-energy-demandte.d20dc835ba5058abe813aff100f031ea', 'unit': 'MJ-eq', 'description': 'Total of all cumulative energy demand methods', 'num_cfs': 13}\n"
     ]
    },
    {
     "data": {
      "text/plain": [
       "[('Energy, gross calorific value, in biomass' (megajoule, None, ('natural resource', 'biotic')),\n",
       "  1.0),\n",
       " ('Coal, brown, in ground' (kilogram, None, ('natural resource', 'in ground')),\n",
       "  9.9),\n",
       " ('Coal, hard, unspecified, in ground' (kilogram, None, ('natural resource', 'in ground')),\n",
       "  19.1),\n",
       " ('Gas, mine, off-gas, process, coal mining' (cubic meter, None, ('natural resource', 'in ground')),\n",
       "  39.8),\n",
       " ('Gas, natural, in ground' (cubic meter, None, ('natural resource', 'in ground')),\n",
       "  38.293),\n",
       " ('Oil, crude, in ground' (kilogram, None, ('natural resource', 'in ground')),\n",
       "  45.8),\n",
       " ('Peat, in ground' (kilogram, None, ('natural resource', 'biotic')), 9.9),\n",
       " ('Energy, geothermal, converted' (megajoule, None, ('natural resource', 'in ground')),\n",
       "  1.0),\n",
       " ('Uranium, in ground' (kilogram, None, ('natural resource', 'in ground')),\n",
       "  560000.0),\n",
       " ('Energy, gross calorific value, in biomass, primary forest' (megajoule, None, ('natural resource', 'biotic')),\n",
       "  1.0),\n",
       " ('Energy, solar, converted' (megajoule, None, ('natural resource', 'in air')),\n",
       "  1.0),\n",
       " ('Energy, potential (in hydropower reservoir), converted' (megajoule, None, ('natural resource', 'in water')),\n",
       "  1.0),\n",
       " ('Energy, kinetic (in wind), converted' (megajoule, None, ('natural resource', 'in air')),\n",
       "  1.0)]"
      ]
     },
     "execution_count": 16,
     "metadata": {},
     "output_type": "execute_result"
    }
   ],
   "source": [
    "CED_total.write(cfs)\n",
    "print(CED_total.metadata)\n",
    "\n",
    "[(bw.get_activity(flow), cf) for flow, cf in CED_total.load()]"
   ]
  },
  {
   "cell_type": "markdown",
   "metadata": {},
   "source": [
    "Cumulative energy demand for electric energy equivalents"
   ]
  },
  {
   "cell_type": "code",
   "execution_count": 17,
   "metadata": {},
   "outputs": [],
   "source": [
    "conversion_factors_el = [\n",
    "    {\n",
    "        'category':'wind',\n",
    "        'efficiency': 1\n",
    "    },\n",
    "    {\n",
    "        'category':'biomass',\n",
    "        'efficiency': 0.25\n",
    "    },\n",
    "    {\n",
    "        'category':'fossil',\n",
    "        'efficiency': 0.36\n",
    "    },\n",
    "    {\n",
    "        'category':'geothermal',\n",
    "        'efficiency': 1\n",
    "    },\n",
    "    {\n",
    "        'category':'nuclear',\n",
    "        'efficiency': 0.33\n",
    "    },\n",
    "    {\n",
    "        'category':'primary forest',\n",
    "        'efficiency': 0.25\n",
    "    },\n",
    "    {\n",
    "        'category':'solar',\n",
    "        'efficiency': 1\n",
    "    },\n",
    "    {\n",
    "        'category':'water',\n",
    "        'efficiency': 1\n",
    "    },\n",
    "    \n",
    "]"
   ]
  },
  {
   "cell_type": "code",
   "execution_count": 18,
   "metadata": {},
   "outputs": [
    {
     "name": "stdout",
     "output_type": "stream",
     "text": [
      "Brightway2 Method: cumulative energy demand, electricity: total: energy resources, total\n"
     ]
    },
    {
     "data": {
      "text/plain": [
       "{'abbreviation': 'cumulative-energy-demand-electricityte.ef9e1bb3a0894bf337d2c25c2f2b3602',\n",
       " 'unit': 'MJ-eq',\n",
       " 'description': 'Total of all cumulative energy demand methods converted to electric energy equivalents',\n",
       " 'num_cfs': 13}"
      ]
     },
     "execution_count": 18,
     "metadata": {},
     "output_type": "execute_result"
    }
   ],
   "source": [
    "bw.Method(('cumulative energy demand, electricity', 'total', 'energy resources, total')).register()\n",
    "\n",
    "CED_el_total = bw.Method(('cumulative energy demand, electricity', 'total', 'energy resources, total'))\n",
    "print(CED_el_total)\n",
    "\n",
    "CED_el_total.metadata['unit'] = 'MJ-eq'\n",
    "CED_el_total.metadata['description'] = 'Total of all cumulative energy demand methods converted to electric energy equivalents'\n",
    "CED_el_total.metadata"
   ]
  },
  {
   "cell_type": "code",
   "execution_count": 19,
   "metadata": {},
   "outputs": [
    {
     "data": {
      "text/plain": [
       "13"
      ]
     },
     "execution_count": 19,
     "metadata": {},
     "output_type": "execute_result"
    }
   ],
   "source": [
    "cfs_el = []\n",
    "for m in bw.methods:\n",
    "    if \"cumulative energy demand\" in str(m) and 'total' not in str(m) and 'electricity' not in str(m):\n",
    "        method = bw.Method(m)\n",
    "        for conv_f in conversion_factors_el:\n",
    "            if conv_f['category'] in str(method):\n",
    "                for flow, cf in method.load():\n",
    "                    cfs_el.append((bw.get_activity(flow), cf * conv_f['efficiency']))\n",
    "len(cfs_el)"
   ]
  },
  {
   "cell_type": "code",
   "execution_count": 20,
   "metadata": {},
   "outputs": [
    {
     "name": "stdout",
     "output_type": "stream",
     "text": [
      "{'abbreviation': 'cumulative-energy-demand-electricityte.ef9e1bb3a0894bf337d2c25c2f2b3602', 'unit': 'MJ-eq', 'description': 'Total of all cumulative energy demand methods converted to electric energy equivalents', 'num_cfs': 13}\n"
     ]
    },
    {
     "data": {
      "text/plain": [
       "[('Energy, gross calorific value, in biomass' (megajoule, None, ('natural resource', 'biotic')),\n",
       "  0.25),\n",
       " ('Coal, brown, in ground' (kilogram, None, ('natural resource', 'in ground')),\n",
       "  3.564),\n",
       " ('Coal, hard, unspecified, in ground' (kilogram, None, ('natural resource', 'in ground')),\n",
       "  6.876),\n",
       " ('Gas, mine, off-gas, process, coal mining' (cubic meter, None, ('natural resource', 'in ground')),\n",
       "  14.327999999999998),\n",
       " ('Gas, natural, in ground' (cubic meter, None, ('natural resource', 'in ground')),\n",
       "  13.78548),\n",
       " ('Oil, crude, in ground' (kilogram, None, ('natural resource', 'in ground')),\n",
       "  16.488),\n",
       " ('Peat, in ground' (kilogram, None, ('natural resource', 'biotic')), 3.564),\n",
       " ('Energy, geothermal, converted' (megajoule, None, ('natural resource', 'in ground')),\n",
       "  1.0),\n",
       " ('Uranium, in ground' (kilogram, None, ('natural resource', 'in ground')),\n",
       "  184800.0),\n",
       " ('Energy, gross calorific value, in biomass, primary forest' (megajoule, None, ('natural resource', 'biotic')),\n",
       "  0.25),\n",
       " ('Energy, solar, converted' (megajoule, None, ('natural resource', 'in air')),\n",
       "  1.0),\n",
       " ('Energy, potential (in hydropower reservoir), converted' (megajoule, None, ('natural resource', 'in water')),\n",
       "  1.0),\n",
       " ('Energy, kinetic (in wind), converted' (megajoule, None, ('natural resource', 'in air')),\n",
       "  1.0)]"
      ]
     },
     "execution_count": 20,
     "metadata": {},
     "output_type": "execute_result"
    }
   ],
   "source": [
    "CED_el_total.write(cfs_el)\n",
    "print(CED_el_total.metadata)\n",
    "\n",
    "[(bw.get_activity(flow), cf) for flow, cf in CED_el_total.load()]"
   ]
  },
  {
   "cell_type": "markdown",
   "metadata": {},
   "source": [
    "For checking, if the methods are created:"
   ]
  },
  {
   "cell_type": "code",
   "execution_count": 21,
   "metadata": {
    "scrolled": false
   },
   "outputs": [
    {
     "data": {
      "text/plain": [
       "[('cumulative energy demand',\n",
       "  'biomass',\n",
       "  'renewable energy resources, biomass'),\n",
       " ('cumulative energy demand',\n",
       "  'fossil',\n",
       "  'non-renewable energy resources, fossil'),\n",
       " ('cumulative energy demand',\n",
       "  'geothermal',\n",
       "  'renewable energy resources, geothermal, converted'),\n",
       " ('cumulative energy demand',\n",
       "  'nuclear',\n",
       "  'non-renewable energy resources, nuclear'),\n",
       " ('cumulative energy demand',\n",
       "  'primary forest',\n",
       "  'non-renewable energy resources, primary forest'),\n",
       " ('cumulative energy demand',\n",
       "  'solar',\n",
       "  'renewable energy resources, solar, converted'),\n",
       " ('cumulative energy demand',\n",
       "  'water',\n",
       "  'renewable energy resources, potential (in barrage water), converted'),\n",
       " ('cumulative energy demand',\n",
       "  'wind',\n",
       "  'renewable energy resources, kinetic (in wind), converted'),\n",
       " ('cumulative energy demand', 'total', 'energy resources, total'),\n",
       " ('cumulative energy demand, electricity', 'total', 'energy resources, total')]"
      ]
     },
     "execution_count": 21,
     "metadata": {},
     "output_type": "execute_result"
    }
   ],
   "source": [
    "[m for m in bw.methods if \"cumulative energy demand\" in str(m)]"
   ]
  },
  {
   "cell_type": "code",
   "execution_count": 22,
   "metadata": {},
   "outputs": [],
   "source": [
    "CED_method_key = [m for m in bw.methods if \"cumulative energy demand\" in str(m) and 'total' in str(m)]"
   ]
  },
  {
   "cell_type": "markdown",
   "metadata": {},
   "source": [
    "Resource consumption LCIA"
   ]
  },
  {
   "cell_type": "code",
   "execution_count": 23,
   "metadata": {},
   "outputs": [],
   "source": [
    "resource_consumption = [m for m in bw.methods if \"resource consumption\" in str(m) and \"w/o LT\" not in str(m)]\n",
    "#resource_consumption"
   ]
  },
  {
   "cell_type": "code",
   "execution_count": 24,
   "metadata": {
    "scrolled": true
   },
   "outputs": [
    {
     "data": {
      "text/plain": [
       "25"
      ]
     },
     "execution_count": 24,
     "metadata": {},
     "output_type": "execute_result"
    }
   ],
   "source": [
    "len(resource_consumption)"
   ]
  },
  {
   "cell_type": "markdown",
   "metadata": {},
   "source": [
    "Make a combined list of all methods"
   ]
  },
  {
   "cell_type": "code",
   "execution_count": 25,
   "metadata": {},
   "outputs": [
    {
     "data": {
      "text/plain": [
       "36"
      ]
     },
     "execution_count": 25,
     "metadata": {},
     "output_type": "execute_result"
    }
   ],
   "source": [
    "LCIA_methods = [m for m in bw.methods if \"cumulative energy demand\" in str(m) \n",
    "                or \"resource consumption\" in str(m) and \"w/o LT\" not in str(m)\n",
    "                or \"climate change total\" in str(m) and \"ILCD 2.0\" in str(m) and 'no LT' not in str(m)\n",
    "               ]\n",
    "#LCIA_methods.append(resource_consumption)\n",
    "len(LCIA_methods)\n",
    "#LCIA_methods"
   ]
  },
  {
   "cell_type": "markdown",
   "metadata": {},
   "source": [
    "## Creating new datasets for analysis\n",
    "### Hydro pumped storage\n",
    "combining all hydro pumped datasets from ecoinvent into a global mix"
   ]
  },
  {
   "cell_type": "code",
   "execution_count": 26,
   "metadata": {},
   "outputs": [
    {
     "data": {
      "text/plain": [
       "69"
      ]
     },
     "execution_count": 26,
     "metadata": {},
     "output_type": "execute_result"
    }
   ],
   "source": [
    "pumped_storage_datasets = [a for a in ei if 'pumped storage' in a['name']]\n",
    "n_pumped_storage_datasets = len(pumped_storage_datasets)\n",
    "n_pumped_storage_datasets"
   ]
  },
  {
   "cell_type": "markdown",
   "metadata": {},
   "source": [
    "Get keys for all datasets in ecoinvent for hydro, pumped storage"
   ]
  },
  {
   "cell_type": "code",
   "execution_count": 27,
   "metadata": {},
   "outputs": [],
   "source": [
    "PHS_keys = [a.key[1] for a in ei if 'pumped storage' in a['name']]"
   ]
  },
  {
   "cell_type": "markdown",
   "metadata": {},
   "source": [
    "Create new database with one global dataset without exchanges"
   ]
  },
  {
   "cell_type": "code",
   "execution_count": 28,
   "metadata": {},
   "outputs": [],
   "source": [
    "pumped_hydro = Database(\"pumped hydro storage\")"
   ]
  },
  {
   "cell_type": "code",
   "execution_count": 29,
   "metadata": {},
   "outputs": [
    {
     "name": "stderr",
     "output_type": "stream",
     "text": [
      "Writing activities to SQLite3 database:\n",
      "0% [##] 100% | ETA: 00:00:01\n",
      "Total time elapsed: 00:00:00\n"
     ]
    },
    {
     "name": "stdout",
     "output_type": "stream",
     "text": [
      "Title: Writing activities to SQLite3 database:\n",
      "  Started: 06/01/2021 08:10:22\n",
      "  Finished: 06/01/2021 08:10:22\n",
      "  Total time elapsed: 00:00:00\n",
      "  CPU %: 0.00\n",
      "  Memory %: 1.45\n"
     ]
    }
   ],
   "source": [
    "pumped_hydro.write({    \n",
    "    (\"pumped hydro storage\", \"1\"):{\n",
    "        \"name\" : \"electricity production, hydro, pumped storage\",\n",
    "        \"exchanges\": [],\n",
    "        'reference product': 'electricity, high voltage',\n",
    "        'production amount': 1.0,\n",
    "        'unit': 'kilowatt hour',\n",
    "        'location': 'GLO',\n",
    "    },\n",
    "   \n",
    "    (\"pumped hydro storage\", \"2\"):{\n",
    "        \"name\" : \"electricity production, hydro, pumped storage, embodied\",\n",
    "        \"exchanges\": [],\n",
    "        'reference product': 'electricity, high voltage',\n",
    "        'production amount': 1.0,\n",
    "        'unit': 'kilowatt hour',\n",
    "        'location': 'GLO',\n",
    "    }\n",
    "})"
   ]
  },
  {
   "cell_type": "code",
   "execution_count": 31,
   "metadata": {
    "scrolled": true
   },
   "outputs": [
    {
     "data": {
      "text/plain": [
       "{'name': 'electricity production, hydro, pumped storage',\n",
       " 'reference product': 'electricity, high voltage',\n",
       " 'production amount': 1.0,\n",
       " 'unit': 'kilowatt hour',\n",
       " 'location': 'GLO',\n",
       " 'database': 'pumped hydro storage',\n",
       " 'code': '1'}"
      ]
     },
     "execution_count": 31,
     "metadata": {},
     "output_type": "execute_result"
    }
   ],
   "source": [
    "pumped_storage = pumped_hydro.get(\"1\")\n",
    "pumped_storage.as_dict()"
   ]
  },
  {
   "cell_type": "markdown",
   "metadata": {},
   "source": [
    "Add exchanges to datasets for pumped hydro in ecoinvent; based on average for all datasets (not by storage capacity)"
   ]
  },
  {
   "cell_type": "code",
   "execution_count": 32,
   "metadata": {},
   "outputs": [],
   "source": [
    "for key in PHS_keys:\n",
    "    ds = ei.get(key)\n",
    "    new_exc = pumped_storage.new_exchange(input=ds, amount=1/n_pumped_storage_datasets, type='technosphere')\n",
    "    new_exc.save()"
   ]
  },
  {
   "cell_type": "code",
   "execution_count": 33,
   "metadata": {},
   "outputs": [
    {
     "name": "stdout",
     "output_type": "stream",
     "text": [
      "Exchange: 0.014492753623188406 kilowatt hour 'electricity production, hydro, pumped storage' (kilowatt hour, ES, None) to 'electricity production, hydro, pumped storage' (kilowatt hour, GLO, None)>\n",
      "Exchange: 0.014492753623188406 kilowatt hour 'electricity production, hydro, pumped storage' (kilowatt hour, IT, None) to 'electricity production, hydro, pumped storage' (kilowatt hour, GLO, None)>\n",
      "Exchange: 0.014492753623188406 kilowatt hour 'electricity production, hydro, pumped storage' (kilowatt hour, SI, None) to 'electricity production, hydro, pumped storage' (kilowatt hour, GLO, None)>\n",
      "Exchange: 0.014492753623188406 kilowatt hour 'electricity production, hydro, pumped storage' (kilowatt hour, BA, None) to 'electricity production, hydro, pumped storage' (kilowatt hour, GLO, None)>\n",
      "Exchange: 0.014492753623188406 kilowatt hour 'electricity production, hydro, pumped storage' (kilowatt hour, US-WECC, None) to 'electricity production, hydro, pumped storage' (kilowatt hour, GLO, None)>\n",
      "Exchange: 0.014492753623188406 kilowatt hour 'electricity production, hydro, pumped storage' (kilowatt hour, CA-AB, None) to 'electricity production, hydro, pumped storage' (kilowatt hour, GLO, None)>\n",
      "Exchange: 0.014492753623188406 kilowatt hour 'electricity production, hydro, pumped storage' (kilowatt hour, US-FRCC, None) to 'electricity production, hydro, pumped storage' (kilowatt hour, GLO, None)>\n",
      "Exchange: 0.014492753623188406 kilowatt hour 'electricity production, hydro, pumped storage' (kilowatt hour, US-NPCC, None) to 'electricity production, hydro, pumped storage' (kilowatt hour, GLO, None)>\n",
      "Exchange: 0.014492753623188406 kilowatt hour 'electricity production, hydro, pumped storage' (kilowatt hour, CZ, None) to 'electricity production, hydro, pumped storage' (kilowatt hour, GLO, None)>\n",
      "Exchange: 0.014492753623188406 kilowatt hour 'electricity production, hydro, pumped storage' (kilowatt hour, AU, None) to 'electricity production, hydro, pumped storage' (kilowatt hour, GLO, None)>\n",
      "Exchange: 0.014492753623188406 kilowatt hour 'electricity production, hydro, pumped storage' (kilowatt hour, CN-HN, None) to 'electricity production, hydro, pumped storage' (kilowatt hour, GLO, None)>\n",
      "Exchange: 0.014492753623188406 kilowatt hour 'electricity production, hydro, pumped storage' (kilowatt hour, RoW, None) to 'electricity production, hydro, pumped storage' (kilowatt hour, GLO, None)>\n",
      "Exchange: 0.014492753623188406 kilowatt hour 'electricity production, hydro, pumped storage' (kilowatt hour, CN-GD, None) to 'electricity production, hydro, pumped storage' (kilowatt hour, GLO, None)>\n",
      "Exchange: 0.014492753623188406 kilowatt hour 'electricity production, hydro, pumped storage' (kilowatt hour, BG, None) to 'electricity production, hydro, pumped storage' (kilowatt hour, GLO, None)>\n",
      "Exchange: 0.014492753623188406 kilowatt hour 'electricity production, hydro, pumped storage' (kilowatt hour, ZA, None) to 'electricity production, hydro, pumped storage' (kilowatt hour, GLO, None)>\n",
      "Exchange: 0.014492753623188406 kilowatt hour 'electricity production, hydro, pumped storage' (kilowatt hour, IN-WB, None) to 'electricity production, hydro, pumped storage' (kilowatt hour, GLO, None)>\n",
      "Exchange: 0.014492753623188406 kilowatt hour 'electricity production, hydro, pumped storage' (kilowatt hour, CN-SD, None) to 'electricity production, hydro, pumped storage' (kilowatt hour, GLO, None)>\n",
      "Exchange: 0.014492753623188406 kilowatt hour 'electricity production, hydro, pumped storage' (kilowatt hour, CA-SK, None) to 'electricity production, hydro, pumped storage' (kilowatt hour, GLO, None)>\n",
      "Exchange: 0.014492753623188406 kilowatt hour 'electricity production, hydro, pumped storage' (kilowatt hour, BE, None) to 'electricity production, hydro, pumped storage' (kilowatt hour, GLO, None)>\n",
      "Exchange: 0.014492753623188406 kilowatt hour 'electricity production, hydro, pumped storage' (kilowatt hour, AT, None) to 'electricity production, hydro, pumped storage' (kilowatt hour, GLO, None)>\n",
      "Exchange: 0.014492753623188406 kilowatt hour 'electricity production, hydro, pumped storage' (kilowatt hour, US-RFC, None) to 'electricity production, hydro, pumped storage' (kilowatt hour, GLO, None)>\n",
      "Exchange: 0.014492753623188406 kilowatt hour 'electricity production, hydro, pumped storage' (kilowatt hour, CN-FJ, None) to 'electricity production, hydro, pumped storage' (kilowatt hour, GLO, None)>\n",
      "Exchange: 0.014492753623188406 kilowatt hour 'electricity production, hydro, pumped storage' (kilowatt hour, RS, None) to 'electricity production, hydro, pumped storage' (kilowatt hour, GLO, None)>\n",
      "Exchange: 0.014492753623188406 kilowatt hour 'electricity production, hydro, pumped storage' (kilowatt hour, IN-AP, None) to 'electricity production, hydro, pumped storage' (kilowatt hour, GLO, None)>\n",
      "Exchange: 0.014492753623188406 kilowatt hour 'electricity production, hydro, pumped storage' (kilowatt hour, IN-GJ, None) to 'electricity production, hydro, pumped storage' (kilowatt hour, GLO, None)>\n",
      "Exchange: 0.014492753623188406 kilowatt hour 'electricity production, hydro, pumped storage' (kilowatt hour, CH, None) to 'electricity production, hydro, pumped storage' (kilowatt hour, GLO, None)>\n",
      "Exchange: 0.014492753623188406 kilowatt hour 'electricity production, hydro, pumped storage' (kilowatt hour, CA-BC, None) to 'electricity production, hydro, pumped storage' (kilowatt hour, GLO, None)>\n",
      "Exchange: 0.014492753623188406 kilowatt hour 'electricity production, hydro, pumped storage' (kilowatt hour, IN-MH, None) to 'electricity production, hydro, pumped storage' (kilowatt hour, GLO, None)>\n",
      "Exchange: 0.014492753623188406 kilowatt hour 'electricity production, hydro, pumped storage' (kilowatt hour, CN-JS, None) to 'electricity production, hydro, pumped storage' (kilowatt hour, GLO, None)>\n",
      "Exchange: 0.014492753623188406 kilowatt hour 'electricity production, hydro, pumped storage' (kilowatt hour, CA-YK, None) to 'electricity production, hydro, pumped storage' (kilowatt hour, GLO, None)>\n",
      "Exchange: 0.014492753623188406 kilowatt hour 'electricity production, hydro, pumped storage' (kilowatt hour, CA-NB, None) to 'electricity production, hydro, pumped storage' (kilowatt hour, GLO, None)>\n",
      "Exchange: 0.014492753623188406 kilowatt hour 'electricity production, hydro, pumped storage' (kilowatt hour, US-SERC, None) to 'electricity production, hydro, pumped storage' (kilowatt hour, GLO, None)>\n",
      "Exchange: 0.014492753623188406 kilowatt hour 'electricity production, hydro, pumped storage' (kilowatt hour, IN-BR, None) to 'electricity production, hydro, pumped storage' (kilowatt hour, GLO, None)>\n",
      "Exchange: 0.014492753623188406 kilowatt hour 'electricity production, hydro, pumped storage' (kilowatt hour, IE, None) to 'electricity production, hydro, pumped storage' (kilowatt hour, GLO, None)>\n",
      "Exchange: 0.014492753623188406 kilowatt hour 'electricity production, hydro, pumped storage' (kilowatt hour, LT, None) to 'electricity production, hydro, pumped storage' (kilowatt hour, GLO, None)>\n",
      "Exchange: 0.014492753623188406 kilowatt hour 'electricity production, hydro, pumped storage' (kilowatt hour, CN-HU, None) to 'electricity production, hydro, pumped storage' (kilowatt hour, GLO, None)>\n",
      "Exchange: 0.014492753623188406 kilowatt hour 'electricity production, hydro, pumped storage' (kilowatt hour, HR, None) to 'electricity production, hydro, pumped storage' (kilowatt hour, GLO, None)>\n",
      "Exchange: 0.014492753623188406 kilowatt hour 'electricity production, hydro, pumped storage' (kilowatt hour, AR, None) to 'electricity production, hydro, pumped storage' (kilowatt hour, GLO, None)>\n",
      "Exchange: 0.014492753623188406 kilowatt hour 'electricity production, hydro, pumped storage' (kilowatt hour, CN-HE, None) to 'electricity production, hydro, pumped storage' (kilowatt hour, GLO, None)>\n",
      "Exchange: 0.014492753623188406 kilowatt hour 'electricity production, hydro, pumped storage' (kilowatt hour, JP, None) to 'electricity production, hydro, pumped storage' (kilowatt hour, GLO, None)>\n",
      "Exchange: 0.014492753623188406 kilowatt hour 'electricity production, hydro, pumped storage' (kilowatt hour, CN-HB, None) to 'electricity production, hydro, pumped storage' (kilowatt hour, GLO, None)>\n",
      "Exchange: 0.014492753623188406 kilowatt hour 'electricity production, hydro, pumped storage' (kilowatt hour, KR, None) to 'electricity production, hydro, pumped storage' (kilowatt hour, GLO, None)>\n",
      "Exchange: 0.014492753623188406 kilowatt hour 'electricity production, hydro, pumped storage' (kilowatt hour, NO, None) to 'electricity production, hydro, pumped storage' (kilowatt hour, GLO, None)>\n",
      "Exchange: 0.014492753623188406 kilowatt hour 'electricity production, hydro, pumped storage' (kilowatt hour, CN-SX, None) to 'electricity production, hydro, pumped storage' (kilowatt hour, GLO, None)>\n",
      "Exchange: 0.014492753623188406 kilowatt hour 'electricity production, hydro, pumped storage' (kilowatt hour, PT, None) to 'electricity production, hydro, pumped storage' (kilowatt hour, GLO, None)>\n",
      "Exchange: 0.014492753623188406 kilowatt hour 'electricity production, hydro, pumped storage' (kilowatt hour, LU, None) to 'electricity production, hydro, pumped storage' (kilowatt hour, GLO, None)>\n",
      "Exchange: 0.014492753623188406 kilowatt hour 'electricity production, hydro, pumped storage' (kilowatt hour, CN-LN, None) to 'electricity production, hydro, pumped storage' (kilowatt hour, GLO, None)>\n",
      "Exchange: 0.014492753623188406 kilowatt hour 'electricity production, hydro, pumped storage' (kilowatt hour, US-MRO, None) to 'electricity production, hydro, pumped storage' (kilowatt hour, GLO, None)>\n",
      "Exchange: 0.014492753623188406 kilowatt hour 'electricity production, hydro, pumped storage' (kilowatt hour, RO, None) to 'electricity production, hydro, pumped storage' (kilowatt hour, GLO, None)>\n",
      "Exchange: 0.014492753623188406 kilowatt hour 'electricity production, hydro, pumped storage' (kilowatt hour, US-TRE, None) to 'electricity production, hydro, pumped storage' (kilowatt hour, GLO, None)>\n",
      "Exchange: 0.014492753623188406 kilowatt hour 'electricity production, hydro, pumped storage' (kilowatt hour, CA-ON, None) to 'electricity production, hydro, pumped storage' (kilowatt hour, GLO, None)>\n",
      "Exchange: 0.014492753623188406 kilowatt hour 'electricity production, hydro, pumped storage' (kilowatt hour, SE, None) to 'electricity production, hydro, pumped storage' (kilowatt hour, GLO, None)>\n",
      "Exchange: 0.014492753623188406 kilowatt hour 'electricity production, hydro, pumped storage' (kilowatt hour, FR, None) to 'electricity production, hydro, pumped storage' (kilowatt hour, GLO, None)>\n",
      "Exchange: 0.014492753623188406 kilowatt hour 'electricity production, hydro, pumped storage' (kilowatt hour, DE, None) to 'electricity production, hydro, pumped storage' (kilowatt hour, GLO, None)>\n",
      "Exchange: 0.014492753623188406 kilowatt hour 'electricity production, hydro, pumped storage' (kilowatt hour, GR, None) to 'electricity production, hydro, pumped storage' (kilowatt hour, GLO, None)>\n",
      "Exchange: 0.014492753623188406 kilowatt hour 'electricity production, hydro, pumped storage' (kilowatt hour, CN-AH, None) to 'electricity production, hydro, pumped storage' (kilowatt hour, GLO, None)>\n",
      "Exchange: 0.014492753623188406 kilowatt hour 'electricity production, hydro, pumped storage' (kilowatt hour, US-HICC, None) to 'electricity production, hydro, pumped storage' (kilowatt hour, GLO, None)>\n",
      "Exchange: 0.014492753623188406 kilowatt hour 'electricity production, hydro, pumped storage' (kilowatt hour, GB, None) to 'electricity production, hydro, pumped storage' (kilowatt hour, GLO, None)>\n",
      "Exchange: 0.014492753623188406 kilowatt hour 'electricity production, hydro, pumped storage' (kilowatt hour, CN-ZJ, None) to 'electricity production, hydro, pumped storage' (kilowatt hour, GLO, None)>\n",
      "Exchange: 0.014492753623188406 kilowatt hour 'electricity production, hydro, pumped storage' (kilowatt hour, CA-NT, None) to 'electricity production, hydro, pumped storage' (kilowatt hour, GLO, None)>\n",
      "Exchange: 0.014492753623188406 kilowatt hour 'electricity production, hydro, pumped storage' (kilowatt hour, TW, None) to 'electricity production, hydro, pumped storage' (kilowatt hour, GLO, None)>\n",
      "Exchange: 0.014492753623188406 kilowatt hour 'electricity production, hydro, pumped storage' (kilowatt hour, PL, None) to 'electricity production, hydro, pumped storage' (kilowatt hour, GLO, None)>\n",
      "Exchange: 0.014492753623188406 kilowatt hour 'electricity production, hydro, pumped storage' (kilowatt hour, CA-MB, None) to 'electricity production, hydro, pumped storage' (kilowatt hour, GLO, None)>\n",
      "Exchange: 0.014492753623188406 kilowatt hour 'electricity production, hydro, pumped storage' (kilowatt hour, US-ASCC, None) to 'electricity production, hydro, pumped storage' (kilowatt hour, GLO, None)>\n",
      "Exchange: 0.014492753623188406 kilowatt hour 'electricity production, hydro, pumped storage' (kilowatt hour, RU, None) to 'electricity production, hydro, pumped storage' (kilowatt hour, GLO, None)>\n",
      "Exchange: 0.014492753623188406 kilowatt hour 'electricity production, hydro, pumped storage' (kilowatt hour, CA-NS, None) to 'electricity production, hydro, pumped storage' (kilowatt hour, GLO, None)>\n",
      "Exchange: 0.014492753623188406 kilowatt hour 'electricity production, hydro, pumped storage' (kilowatt hour, UA, None) to 'electricity production, hydro, pumped storage' (kilowatt hour, GLO, None)>\n",
      "Exchange: 0.014492753623188406 kilowatt hour 'electricity production, hydro, pumped storage' (kilowatt hour, SK, None) to 'electricity production, hydro, pumped storage' (kilowatt hour, GLO, None)>\n",
      "Exchange: 0.014492753623188406 kilowatt hour 'electricity production, hydro, pumped storage' (kilowatt hour, IN-TN, None) to 'electricity production, hydro, pumped storage' (kilowatt hour, GLO, None)>\n"
     ]
    }
   ],
   "source": [
    "for exc in pumped_storage.exchanges():\n",
    "    print(exc)"
   ]
  },
  {
   "cell_type": "markdown",
   "metadata": {},
   "source": [
    "Turnaround efficiency of pumped hydro storage"
   ]
  },
  {
   "cell_type": "markdown",
   "metadata": {},
   "source": [
    "looking for exchanges that are input of electricity"
   ]
  },
  {
   "cell_type": "code",
   "execution_count": 34,
   "metadata": {},
   "outputs": [
    {
     "data": {
      "text/plain": [
       "[Exchange: 0.991 kilowatt hour 'market for electricity, high voltage' (kilowatt hour, DE, None) to 'electricity production, hydro, pumped storage' (kilowatt hour, LU, None)>,\n",
       " Exchange: 0.439 kilowatt hour 'market for electricity, high voltage' (kilowatt hour, BE, None) to 'electricity production, hydro, pumped storage' (kilowatt hour, LU, None)>]"
      ]
     },
     "execution_count": 34,
     "metadata": {},
     "output_type": "execute_result"
    }
   ],
   "source": [
    "PHS_key = [a.key[1] for a in ei if 'pumped storage' in a['name'] and 'LU' in a['location']]\n",
    "ds = ei.get(PHS_key)\n",
    "#ds = ei.get(PHS_keys[0])\n",
    "input_electricity = [exc for exc in ds.exchanges() if 'electricity, high voltage' in exc['name'] and exc['input'][1]!=exc['output'][1]]#[0]\n",
    "input_electricity#.as_dict()"
   ]
  },
  {
   "cell_type": "markdown",
   "metadata": {},
   "source": [
    "adding up the different market datasets of inputs:"
   ]
  },
  {
   "cell_type": "code",
   "execution_count": 35,
   "metadata": {},
   "outputs": [
    {
     "data": {
      "text/plain": [
       "1.43"
      ]
     },
     "execution_count": 35,
     "metadata": {},
     "output_type": "execute_result"
    }
   ],
   "source": [
    "input_electricity_amount = 0\n",
    "for exc in ds.exchanges():\n",
    "    if 'electricity, high voltage' in exc['name'] and exc['input'][1]!=exc['output'][1]:\n",
    "        input_electricity_amount += exc['amount']\n",
    "input_electricity_amount"
   ]
  },
  {
   "cell_type": "markdown",
   "metadata": {},
   "source": [
    "Calculating turnaround efficiency for each dataset and store it in a dictionary:"
   ]
  },
  {
   "cell_type": "code",
   "execution_count": 36,
   "metadata": {},
   "outputs": [
    {
     "data": {
      "text/plain": [
       "[{'dataset': 'electricity production, hydro, pumped storage',\n",
       "  'location': 'ES',\n",
       "  'turnaround efficiency': 0.6993006993006994},\n",
       " {'dataset': 'electricity production, hydro, pumped storage',\n",
       "  'location': 'IT',\n",
       "  'turnaround efficiency': 0.6993006993006994},\n",
       " {'dataset': 'electricity production, hydro, pumped storage',\n",
       "  'location': 'SI',\n",
       "  'turnaround efficiency': 0.6993006993006994},\n",
       " {'dataset': 'electricity production, hydro, pumped storage',\n",
       "  'location': 'BA',\n",
       "  'turnaround efficiency': 0.6993006993006994},\n",
       " {'dataset': 'electricity production, hydro, pumped storage',\n",
       "  'location': 'US-WECC',\n",
       "  'turnaround efficiency': 0.6993006993006994},\n",
       " {'dataset': 'electricity production, hydro, pumped storage',\n",
       "  'location': 'CA-AB',\n",
       "  'turnaround efficiency': 0.6993006993006994},\n",
       " {'dataset': 'electricity production, hydro, pumped storage',\n",
       "  'location': 'US-FRCC',\n",
       "  'turnaround efficiency': 0.6993006993006994},\n",
       " {'dataset': 'electricity production, hydro, pumped storage',\n",
       "  'location': 'US-NPCC',\n",
       "  'turnaround efficiency': 0.6993006993006994},\n",
       " {'dataset': 'electricity production, hydro, pumped storage',\n",
       "  'location': 'CZ',\n",
       "  'turnaround efficiency': 0.6993006993006994},\n",
       " {'dataset': 'electricity production, hydro, pumped storage',\n",
       "  'location': 'AU',\n",
       "  'turnaround efficiency': 0.6993006993006994},\n",
       " {'dataset': 'electricity production, hydro, pumped storage',\n",
       "  'location': 'CN-HN',\n",
       "  'turnaround efficiency': 0.6993006993006994},\n",
       " {'dataset': 'electricity production, hydro, pumped storage',\n",
       "  'location': 'RoW',\n",
       "  'turnaround efficiency': 0.6993006993006995},\n",
       " {'dataset': 'electricity production, hydro, pumped storage',\n",
       "  'location': 'CN-GD',\n",
       "  'turnaround efficiency': 0.6993006993006994},\n",
       " {'dataset': 'electricity production, hydro, pumped storage',\n",
       "  'location': 'BG',\n",
       "  'turnaround efficiency': 0.6993006993006994},\n",
       " {'dataset': 'electricity production, hydro, pumped storage',\n",
       "  'location': 'ZA',\n",
       "  'turnaround efficiency': 0.6993006993006994},\n",
       " {'dataset': 'electricity production, hydro, pumped storage',\n",
       "  'location': 'IN-WB',\n",
       "  'turnaround efficiency': 0.6993006993006994},\n",
       " {'dataset': 'electricity production, hydro, pumped storage',\n",
       "  'location': 'CN-SD',\n",
       "  'turnaround efficiency': 0.6993006993006994},\n",
       " {'dataset': 'electricity production, hydro, pumped storage',\n",
       "  'location': 'CA-SK',\n",
       "  'turnaround efficiency': 0.6993006993006994},\n",
       " {'dataset': 'electricity production, hydro, pumped storage',\n",
       "  'location': 'BE',\n",
       "  'turnaround efficiency': 0.6993006993006994},\n",
       " {'dataset': 'electricity production, hydro, pumped storage',\n",
       "  'location': 'AT',\n",
       "  'turnaround efficiency': 0.6993006993006994},\n",
       " {'dataset': 'electricity production, hydro, pumped storage',\n",
       "  'location': 'US-RFC',\n",
       "  'turnaround efficiency': 0.6993006993006994},\n",
       " {'dataset': 'electricity production, hydro, pumped storage',\n",
       "  'location': 'CN-FJ',\n",
       "  'turnaround efficiency': 0.6993006993006994},\n",
       " {'dataset': 'electricity production, hydro, pumped storage',\n",
       "  'location': 'RS',\n",
       "  'turnaround efficiency': 0.6993006993006994},\n",
       " {'dataset': 'electricity production, hydro, pumped storage',\n",
       "  'location': 'IN-AP',\n",
       "  'turnaround efficiency': 0.6993006993006994},\n",
       " {'dataset': 'electricity production, hydro, pumped storage',\n",
       "  'location': 'IN-GJ',\n",
       "  'turnaround efficiency': 0.6993006993006994},\n",
       " {'dataset': 'electricity production, hydro, pumped storage',\n",
       "  'location': 'CH',\n",
       "  'turnaround efficiency': 0.6993006993006994},\n",
       " {'dataset': 'electricity production, hydro, pumped storage',\n",
       "  'location': 'CA-BC',\n",
       "  'turnaround efficiency': 0.6993006993006994},\n",
       " {'dataset': 'electricity production, hydro, pumped storage',\n",
       "  'location': 'IN-MH',\n",
       "  'turnaround efficiency': 0.6993006993006994},\n",
       " {'dataset': 'electricity production, hydro, pumped storage',\n",
       "  'location': 'CN-JS',\n",
       "  'turnaround efficiency': 0.6993006993006994},\n",
       " {'dataset': 'electricity production, hydro, pumped storage',\n",
       "  'location': 'CA-YK',\n",
       "  'turnaround efficiency': 0.6993006993006994},\n",
       " {'dataset': 'electricity production, hydro, pumped storage',\n",
       "  'location': 'CA-NB',\n",
       "  'turnaround efficiency': 0.6993006993006994},\n",
       " {'dataset': 'electricity production, hydro, pumped storage',\n",
       "  'location': 'US-SERC',\n",
       "  'turnaround efficiency': 0.6993006993006994},\n",
       " {'dataset': 'electricity production, hydro, pumped storage',\n",
       "  'location': 'IN-BR',\n",
       "  'turnaround efficiency': 0.6993006993006994},\n",
       " {'dataset': 'electricity production, hydro, pumped storage',\n",
       "  'location': 'IE',\n",
       "  'turnaround efficiency': 0.6993006993006994},\n",
       " {'dataset': 'electricity production, hydro, pumped storage',\n",
       "  'location': 'LT',\n",
       "  'turnaround efficiency': 0.6993006993006994},\n",
       " {'dataset': 'electricity production, hydro, pumped storage',\n",
       "  'location': 'CN-HU',\n",
       "  'turnaround efficiency': 0.6993006993006994},\n",
       " {'dataset': 'electricity production, hydro, pumped storage',\n",
       "  'location': 'HR',\n",
       "  'turnaround efficiency': 0.6993006993006994},\n",
       " {'dataset': 'electricity production, hydro, pumped storage',\n",
       "  'location': 'AR',\n",
       "  'turnaround efficiency': 0.6993006993006994},\n",
       " {'dataset': 'electricity production, hydro, pumped storage',\n",
       "  'location': 'CN-HE',\n",
       "  'turnaround efficiency': 0.6993006993006994},\n",
       " {'dataset': 'electricity production, hydro, pumped storage',\n",
       "  'location': 'JP',\n",
       "  'turnaround efficiency': 0.6993006993006994},\n",
       " {'dataset': 'electricity production, hydro, pumped storage',\n",
       "  'location': 'CN-HB',\n",
       "  'turnaround efficiency': 0.6993006993006994},\n",
       " {'dataset': 'electricity production, hydro, pumped storage',\n",
       "  'location': 'KR',\n",
       "  'turnaround efficiency': 0.6993006993006994},\n",
       " {'dataset': 'electricity production, hydro, pumped storage',\n",
       "  'location': 'NO',\n",
       "  'turnaround efficiency': 0.6993006993006994},\n",
       " {'dataset': 'electricity production, hydro, pumped storage',\n",
       "  'location': 'CN-SX',\n",
       "  'turnaround efficiency': 0.6993006993006994},\n",
       " {'dataset': 'electricity production, hydro, pumped storage',\n",
       "  'location': 'PT',\n",
       "  'turnaround efficiency': 0.6993006993006994},\n",
       " {'dataset': 'electricity production, hydro, pumped storage',\n",
       "  'location': 'LU',\n",
       "  'turnaround efficiency': 0.6993006993006994},\n",
       " {'dataset': 'electricity production, hydro, pumped storage',\n",
       "  'location': 'CN-LN',\n",
       "  'turnaround efficiency': 0.6993006993006994},\n",
       " {'dataset': 'electricity production, hydro, pumped storage',\n",
       "  'location': 'US-MRO',\n",
       "  'turnaround efficiency': 0.6993006993006994},\n",
       " {'dataset': 'electricity production, hydro, pumped storage',\n",
       "  'location': 'RO',\n",
       "  'turnaround efficiency': 0.6993006993006994},\n",
       " {'dataset': 'electricity production, hydro, pumped storage',\n",
       "  'location': 'US-TRE',\n",
       "  'turnaround efficiency': 0.6993006993006994},\n",
       " {'dataset': 'electricity production, hydro, pumped storage',\n",
       "  'location': 'CA-ON',\n",
       "  'turnaround efficiency': 0.6993006993006994},\n",
       " {'dataset': 'electricity production, hydro, pumped storage',\n",
       "  'location': 'SE',\n",
       "  'turnaround efficiency': 0.6993006993006994},\n",
       " {'dataset': 'electricity production, hydro, pumped storage',\n",
       "  'location': 'FR',\n",
       "  'turnaround efficiency': 0.6993006993006994},\n",
       " {'dataset': 'electricity production, hydro, pumped storage',\n",
       "  'location': 'DE',\n",
       "  'turnaround efficiency': 0.6993006993006994},\n",
       " {'dataset': 'electricity production, hydro, pumped storage',\n",
       "  'location': 'GR',\n",
       "  'turnaround efficiency': 0.6993006993006994},\n",
       " {'dataset': 'electricity production, hydro, pumped storage',\n",
       "  'location': 'CN-AH',\n",
       "  'turnaround efficiency': 0.6993006993006994},\n",
       " {'dataset': 'electricity production, hydro, pumped storage',\n",
       "  'location': 'US-HICC',\n",
       "  'turnaround efficiency': 0.6993006993006994},\n",
       " {'dataset': 'electricity production, hydro, pumped storage',\n",
       "  'location': 'GB',\n",
       "  'turnaround efficiency': 0.6993006993006994},\n",
       " {'dataset': 'electricity production, hydro, pumped storage',\n",
       "  'location': 'CN-ZJ',\n",
       "  'turnaround efficiency': 0.6993006993006994},\n",
       " {'dataset': 'electricity production, hydro, pumped storage',\n",
       "  'location': 'CA-NT',\n",
       "  'turnaround efficiency': 0.6993006993006994},\n",
       " {'dataset': 'electricity production, hydro, pumped storage',\n",
       "  'location': 'TW',\n",
       "  'turnaround efficiency': 0.6993006993006994},\n",
       " {'dataset': 'electricity production, hydro, pumped storage',\n",
       "  'location': 'PL',\n",
       "  'turnaround efficiency': 0.6993006993006994},\n",
       " {'dataset': 'electricity production, hydro, pumped storage',\n",
       "  'location': 'CA-MB',\n",
       "  'turnaround efficiency': 0.6993006993006994},\n",
       " {'dataset': 'electricity production, hydro, pumped storage',\n",
       "  'location': 'US-ASCC',\n",
       "  'turnaround efficiency': 0.6993006993006994},\n",
       " {'dataset': 'electricity production, hydro, pumped storage',\n",
       "  'location': 'RU',\n",
       "  'turnaround efficiency': 0.6993006993006994},\n",
       " {'dataset': 'electricity production, hydro, pumped storage',\n",
       "  'location': 'CA-NS',\n",
       "  'turnaround efficiency': 0.6993006993006994},\n",
       " {'dataset': 'electricity production, hydro, pumped storage',\n",
       "  'location': 'UA',\n",
       "  'turnaround efficiency': 0.6993006993006994},\n",
       " {'dataset': 'electricity production, hydro, pumped storage',\n",
       "  'location': 'SK',\n",
       "  'turnaround efficiency': 0.6993006993006994},\n",
       " {'dataset': 'electricity production, hydro, pumped storage',\n",
       "  'location': 'IN-TN',\n",
       "  'turnaround efficiency': 0.6993006993006994}]"
      ]
     },
     "execution_count": 36,
     "metadata": {},
     "output_type": "execute_result"
    }
   ],
   "source": [
    "PHS_turnaround_efficiency = []\n",
    "for key in PHS_keys:\n",
    "    ds = ei.get(key)\n",
    "    input_electricity_amount = 0\n",
    "    for exc in ds.exchanges():\n",
    "        if 'electricity, high voltage' in exc['name'] and exc['input'][1]!=exc['output'][1]:\n",
    "            input_electricity_amount += exc['amount']\n",
    "    PHS_turnaround_efficiency.append(\n",
    "        {\n",
    "            'dataset': ds['name'],\n",
    "            'location': ds['location'],\n",
    "            'turnaround efficiency': 1/input_electricity_amount\n",
    "        }\n",
    "    )\n",
    "PHS_turnaround_efficiency"
   ]
  },
  {
   "cell_type": "markdown",
   "metadata": {},
   "source": [
    "Calculate the average across datasets:"
   ]
  },
  {
   "cell_type": "code",
   "execution_count": 37,
   "metadata": {},
   "outputs": [
    {
     "data": {
      "text/plain": [
       "0.6993006993006988"
      ]
     },
     "execution_count": 37,
     "metadata": {},
     "output_type": "execute_result"
    }
   ],
   "source": [
    "PHS_turnaround_efficiency_average = 0\n",
    "for ds in PHS_turnaround_efficiency:\n",
    "    PHS_turnaround_efficiency_average += ds['turnaround efficiency'] / len(PHS_turnaround_efficiency)\n",
    "\n",
    "PHS_turnaround_efficiency_average"
   ]
  },
  {
   "cell_type": "markdown",
   "metadata": {},
   "source": [
    "### Create hydro power datasets with only embodied energy\n",
    "Remove the electricity input into the storage datasets\n",
    "\n",
    "Copy existing datasets from ecoinvent in new database:\n",
    "(hint: any changes to a dataset need to be saved, otherwise it doesn't recognise it)"
   ]
  },
  {
   "cell_type": "code",
   "execution_count": 38,
   "metadata": {
    "scrolled": true
   },
   "outputs": [
    {
     "name": "stdout",
     "output_type": "stream",
     "text": [
      "Successfully switch activity dataset to database `pumped hydro storage`\n",
      "Successfully switch activity dataset to database `pumped hydro storage`\n",
      "Successfully switch activity dataset to database `pumped hydro storage`\n",
      "Successfully switch activity dataset to database `pumped hydro storage`\n",
      "Successfully switch activity dataset to database `pumped hydro storage`\n",
      "Successfully switch activity dataset to database `pumped hydro storage`\n",
      "Successfully switch activity dataset to database `pumped hydro storage`\n",
      "Successfully switch activity dataset to database `pumped hydro storage`\n",
      "Successfully switch activity dataset to database `pumped hydro storage`\n",
      "Successfully switch activity dataset to database `pumped hydro storage`\n",
      "Successfully switch activity dataset to database `pumped hydro storage`\n",
      "Successfully switch activity dataset to database `pumped hydro storage`\n",
      "Successfully switch activity dataset to database `pumped hydro storage`\n",
      "Successfully switch activity dataset to database `pumped hydro storage`\n",
      "Successfully switch activity dataset to database `pumped hydro storage`\n",
      "Successfully switch activity dataset to database `pumped hydro storage`\n",
      "Successfully switch activity dataset to database `pumped hydro storage`\n",
      "Successfully switch activity dataset to database `pumped hydro storage`\n",
      "Successfully switch activity dataset to database `pumped hydro storage`\n",
      "Successfully switch activity dataset to database `pumped hydro storage`\n",
      "Successfully switch activity dataset to database `pumped hydro storage`\n",
      "Successfully switch activity dataset to database `pumped hydro storage`\n",
      "Successfully switch activity dataset to database `pumped hydro storage`\n",
      "Successfully switch activity dataset to database `pumped hydro storage`\n",
      "Successfully switch activity dataset to database `pumped hydro storage`\n",
      "Successfully switch activity dataset to database `pumped hydro storage`\n",
      "Successfully switch activity dataset to database `pumped hydro storage`\n",
      "Successfully switch activity dataset to database `pumped hydro storage`\n",
      "Successfully switch activity dataset to database `pumped hydro storage`\n",
      "Successfully switch activity dataset to database `pumped hydro storage`\n",
      "Successfully switch activity dataset to database `pumped hydro storage`\n",
      "Successfully switch activity dataset to database `pumped hydro storage`\n",
      "Successfully switch activity dataset to database `pumped hydro storage`\n",
      "Successfully switch activity dataset to database `pumped hydro storage`\n",
      "Successfully switch activity dataset to database `pumped hydro storage`\n",
      "Successfully switch activity dataset to database `pumped hydro storage`\n",
      "Successfully switch activity dataset to database `pumped hydro storage`\n",
      "Successfully switch activity dataset to database `pumped hydro storage`\n",
      "Successfully switch activity dataset to database `pumped hydro storage`\n",
      "Successfully switch activity dataset to database `pumped hydro storage`\n",
      "Successfully switch activity dataset to database `pumped hydro storage`\n",
      "Successfully switch activity dataset to database `pumped hydro storage`\n",
      "Successfully switch activity dataset to database `pumped hydro storage`\n",
      "Successfully switch activity dataset to database `pumped hydro storage`\n",
      "Successfully switch activity dataset to database `pumped hydro storage`\n",
      "Successfully switch activity dataset to database `pumped hydro storage`\n",
      "Successfully switch activity dataset to database `pumped hydro storage`\n",
      "Successfully switch activity dataset to database `pumped hydro storage`\n",
      "Successfully switch activity dataset to database `pumped hydro storage`\n",
      "Successfully switch activity dataset to database `pumped hydro storage`\n",
      "Successfully switch activity dataset to database `pumped hydro storage`\n",
      "Successfully switch activity dataset to database `pumped hydro storage`\n",
      "Successfully switch activity dataset to database `pumped hydro storage`\n",
      "Successfully switch activity dataset to database `pumped hydro storage`\n",
      "Successfully switch activity dataset to database `pumped hydro storage`\n",
      "Successfully switch activity dataset to database `pumped hydro storage`\n",
      "Successfully switch activity dataset to database `pumped hydro storage`\n",
      "Successfully switch activity dataset to database `pumped hydro storage`\n",
      "Successfully switch activity dataset to database `pumped hydro storage`\n",
      "Successfully switch activity dataset to database `pumped hydro storage`\n",
      "Successfully switch activity dataset to database `pumped hydro storage`\n",
      "Successfully switch activity dataset to database `pumped hydro storage`\n",
      "Successfully switch activity dataset to database `pumped hydro storage`\n",
      "Successfully switch activity dataset to database `pumped hydro storage`\n",
      "Successfully switch activity dataset to database `pumped hydro storage`\n",
      "Successfully switch activity dataset to database `pumped hydro storage`\n",
      "Successfully switch activity dataset to database `pumped hydro storage`\n",
      "Successfully switch activity dataset to database `pumped hydro storage`\n",
      "Successfully switch activity dataset to database `pumped hydro storage`\n"
     ]
    }
   ],
   "source": [
    "for key in PHS_keys:\n",
    "    ds = ei.get(key)\n",
    "    ds_copy = ds.copy()\n",
    "    ds_copy['database'] = 'pumped hydro storage'\n",
    "    ds_copy['comment'] = 'dataset without input of electricity; only embodied energy'\n",
    "    ds_copy.save()"
   ]
  },
  {
   "cell_type": "code",
   "execution_count": 39,
   "metadata": {},
   "outputs": [
    {
     "data": {
      "text/plain": [
       "71"
      ]
     },
     "execution_count": 39,
     "metadata": {},
     "output_type": "execute_result"
    }
   ],
   "source": [
    "len(pumped_hydro)"
   ]
  },
  {
   "cell_type": "markdown",
   "metadata": {},
   "source": [
    "removing exchanges with input of electricity"
   ]
  },
  {
   "cell_type": "code",
   "execution_count": 40,
   "metadata": {},
   "outputs": [
    {
     "data": {
      "text/plain": [
       "69"
      ]
     },
     "execution_count": 40,
     "metadata": {},
     "output_type": "execute_result"
    }
   ],
   "source": [
    "PHS_embodied_keys = [a.key[1] for a in pumped_hydro if 'pumped storage' in a['name'] and 'GLO' not in a['location']]\n",
    "len(PHS_embodied_keys)"
   ]
  },
  {
   "cell_type": "code",
   "execution_count": 42,
   "metadata": {},
   "outputs": [],
   "source": [
    "for key in PHS_embodied_keys:\n",
    "    ds = pumped_hydro.get(key)\n",
    "    for exc in ds.exchanges():\n",
    "        if 'electricity, high voltage' in exc['name'] and exc['input'][1]!=exc['output'][1]:\n",
    "            for input_key in exc.input.key[1]:\n",
    "                exc.delete()"
   ]
  },
  {
   "cell_type": "code",
   "execution_count": 43,
   "metadata": {},
   "outputs": [
    {
     "data": {
      "text/plain": [
       "{'name': 'electricity production, hydro, pumped storage, embodied',\n",
       " 'reference product': 'electricity, high voltage',\n",
       " 'production amount': 1.0,\n",
       " 'unit': 'kilowatt hour',\n",
       " 'location': 'GLO',\n",
       " 'database': 'pumped hydro storage',\n",
       " 'code': '2'}"
      ]
     },
     "execution_count": 43,
     "metadata": {},
     "output_type": "execute_result"
    }
   ],
   "source": [
    "pumped_storage2 = pumped_hydro.get(\"2\")\n",
    "pumped_storage2.as_dict()"
   ]
  },
  {
   "cell_type": "code",
   "execution_count": 44,
   "metadata": {},
   "outputs": [],
   "source": [
    "for key in PHS_embodied_keys:\n",
    "    ds = pumped_hydro.get(key)\n",
    "    new_exc = pumped_storage2.new_exchange(input=ds, amount=1/n_pumped_storage_datasets, type='technosphere')\n",
    "    new_exc.save()"
   ]
  },
  {
   "cell_type": "code",
   "execution_count": 45,
   "metadata": {},
   "outputs": [
    {
     "data": {
      "text/plain": [
       "[Exchange: 0.014492753623188406 kilowatt hour 'electricity production, hydro, pumped storage' (kilowatt hour, CA-NB, None) to 'electricity production, hydro, pumped storage, embodied' (kilowatt hour, GLO, None)>,\n",
       " Exchange: 0.014492753623188406 kilowatt hour 'electricity production, hydro, pumped storage' (kilowatt hour, CN-HB, None) to 'electricity production, hydro, pumped storage, embodied' (kilowatt hour, GLO, None)>,\n",
       " Exchange: 0.014492753623188406 kilowatt hour 'electricity production, hydro, pumped storage' (kilowatt hour, PL, None) to 'electricity production, hydro, pumped storage, embodied' (kilowatt hour, GLO, None)>,\n",
       " Exchange: 0.014492753623188406 kilowatt hour 'electricity production, hydro, pumped storage' (kilowatt hour, KR, None) to 'electricity production, hydro, pumped storage, embodied' (kilowatt hour, GLO, None)>,\n",
       " Exchange: 0.014492753623188406 kilowatt hour 'electricity production, hydro, pumped storage' (kilowatt hour, CN-JS, None) to 'electricity production, hydro, pumped storage, embodied' (kilowatt hour, GLO, None)>,\n",
       " Exchange: 0.014492753623188406 kilowatt hour 'electricity production, hydro, pumped storage' (kilowatt hour, UA, None) to 'electricity production, hydro, pumped storage, embodied' (kilowatt hour, GLO, None)>,\n",
       " Exchange: 0.014492753623188406 kilowatt hour 'electricity production, hydro, pumped storage' (kilowatt hour, RU, None) to 'electricity production, hydro, pumped storage, embodied' (kilowatt hour, GLO, None)>,\n",
       " Exchange: 0.014492753623188406 kilowatt hour 'electricity production, hydro, pumped storage' (kilowatt hour, US-WECC, None) to 'electricity production, hydro, pumped storage, embodied' (kilowatt hour, GLO, None)>,\n",
       " Exchange: 0.014492753623188406 kilowatt hour 'electricity production, hydro, pumped storage' (kilowatt hour, CN-HE, None) to 'electricity production, hydro, pumped storage, embodied' (kilowatt hour, GLO, None)>,\n",
       " Exchange: 0.014492753623188406 kilowatt hour 'electricity production, hydro, pumped storage' (kilowatt hour, RS, None) to 'electricity production, hydro, pumped storage, embodied' (kilowatt hour, GLO, None)>,\n",
       " Exchange: 0.014492753623188406 kilowatt hour 'electricity production, hydro, pumped storage' (kilowatt hour, CN-FJ, None) to 'electricity production, hydro, pumped storage, embodied' (kilowatt hour, GLO, None)>,\n",
       " Exchange: 0.014492753623188406 kilowatt hour 'electricity production, hydro, pumped storage' (kilowatt hour, IN-BR, None) to 'electricity production, hydro, pumped storage, embodied' (kilowatt hour, GLO, None)>,\n",
       " Exchange: 0.014492753623188406 kilowatt hour 'electricity production, hydro, pumped storage' (kilowatt hour, ES, None) to 'electricity production, hydro, pumped storage, embodied' (kilowatt hour, GLO, None)>,\n",
       " Exchange: 0.014492753623188406 kilowatt hour 'electricity production, hydro, pumped storage' (kilowatt hour, LT, None) to 'electricity production, hydro, pumped storage, embodied' (kilowatt hour, GLO, None)>,\n",
       " Exchange: 0.014492753623188406 kilowatt hour 'electricity production, hydro, pumped storage' (kilowatt hour, CA-YK, None) to 'electricity production, hydro, pumped storage, embodied' (kilowatt hour, GLO, None)>,\n",
       " Exchange: 0.014492753623188406 kilowatt hour 'electricity production, hydro, pumped storage' (kilowatt hour, IN-GJ, None) to 'electricity production, hydro, pumped storage, embodied' (kilowatt hour, GLO, None)>,\n",
       " Exchange: 0.014492753623188406 kilowatt hour 'electricity production, hydro, pumped storage' (kilowatt hour, CA-NT, None) to 'electricity production, hydro, pumped storage, embodied' (kilowatt hour, GLO, None)>,\n",
       " Exchange: 0.014492753623188406 kilowatt hour 'electricity production, hydro, pumped storage' (kilowatt hour, CA-AB, None) to 'electricity production, hydro, pumped storage, embodied' (kilowatt hour, GLO, None)>,\n",
       " Exchange: 0.014492753623188406 kilowatt hour 'electricity production, hydro, pumped storage' (kilowatt hour, LU, None) to 'electricity production, hydro, pumped storage, embodied' (kilowatt hour, GLO, None)>,\n",
       " Exchange: 0.014492753623188406 kilowatt hour 'electricity production, hydro, pumped storage' (kilowatt hour, TW, None) to 'electricity production, hydro, pumped storage, embodied' (kilowatt hour, GLO, None)>,\n",
       " Exchange: 0.014492753623188406 kilowatt hour 'electricity production, hydro, pumped storage' (kilowatt hour, US-FRCC, None) to 'electricity production, hydro, pumped storage, embodied' (kilowatt hour, GLO, None)>,\n",
       " Exchange: 0.014492753623188406 kilowatt hour 'electricity production, hydro, pumped storage' (kilowatt hour, GB, None) to 'electricity production, hydro, pumped storage, embodied' (kilowatt hour, GLO, None)>,\n",
       " Exchange: 0.014492753623188406 kilowatt hour 'electricity production, hydro, pumped storage' (kilowatt hour, CN-SX, None) to 'electricity production, hydro, pumped storage, embodied' (kilowatt hour, GLO, None)>,\n",
       " Exchange: 0.014492753623188406 kilowatt hour 'electricity production, hydro, pumped storage' (kilowatt hour, US-ASCC, None) to 'electricity production, hydro, pumped storage, embodied' (kilowatt hour, GLO, None)>,\n",
       " Exchange: 0.014492753623188406 kilowatt hour 'electricity production, hydro, pumped storage' (kilowatt hour, US-NPCC, None) to 'electricity production, hydro, pumped storage, embodied' (kilowatt hour, GLO, None)>,\n",
       " Exchange: 0.014492753623188406 kilowatt hour 'electricity production, hydro, pumped storage' (kilowatt hour, US-MRO, None) to 'electricity production, hydro, pumped storage, embodied' (kilowatt hour, GLO, None)>,\n",
       " Exchange: 0.014492753623188406 kilowatt hour 'electricity production, hydro, pumped storage' (kilowatt hour, CN-SD, None) to 'electricity production, hydro, pumped storage, embodied' (kilowatt hour, GLO, None)>,\n",
       " Exchange: 0.014492753623188406 kilowatt hour 'electricity production, hydro, pumped storage' (kilowatt hour, US-HICC, None) to 'electricity production, hydro, pumped storage, embodied' (kilowatt hour, GLO, None)>,\n",
       " Exchange: 0.014492753623188406 kilowatt hour 'electricity production, hydro, pumped storage' (kilowatt hour, RO, None) to 'electricity production, hydro, pumped storage, embodied' (kilowatt hour, GLO, None)>,\n",
       " Exchange: 0.014492753623188406 kilowatt hour 'electricity production, hydro, pumped storage' (kilowatt hour, CN-HN, None) to 'electricity production, hydro, pumped storage, embodied' (kilowatt hour, GLO, None)>,\n",
       " Exchange: 0.014492753623188406 kilowatt hour 'electricity production, hydro, pumped storage' (kilowatt hour, IT, None) to 'electricity production, hydro, pumped storage, embodied' (kilowatt hour, GLO, None)>,\n",
       " Exchange: 0.014492753623188406 kilowatt hour 'electricity production, hydro, pumped storage' (kilowatt hour, AU, None) to 'electricity production, hydro, pumped storage, embodied' (kilowatt hour, GLO, None)>,\n",
       " Exchange: 0.014492753623188406 kilowatt hour 'electricity production, hydro, pumped storage' (kilowatt hour, CH, None) to 'electricity production, hydro, pumped storage, embodied' (kilowatt hour, GLO, None)>,\n",
       " Exchange: 0.014492753623188406 kilowatt hour 'electricity production, hydro, pumped storage' (kilowatt hour, CN-LN, None) to 'electricity production, hydro, pumped storage, embodied' (kilowatt hour, GLO, None)>,\n",
       " Exchange: 0.014492753623188406 kilowatt hour 'electricity production, hydro, pumped storage' (kilowatt hour, ZA, None) to 'electricity production, hydro, pumped storage, embodied' (kilowatt hour, GLO, None)>,\n",
       " Exchange: 0.014492753623188406 kilowatt hour 'electricity production, hydro, pumped storage' (kilowatt hour, FR, None) to 'electricity production, hydro, pumped storage, embodied' (kilowatt hour, GLO, None)>,\n",
       " Exchange: 0.014492753623188406 kilowatt hour 'electricity production, hydro, pumped storage' (kilowatt hour, CN-AH, None) to 'electricity production, hydro, pumped storage, embodied' (kilowatt hour, GLO, None)>,\n",
       " Exchange: 0.014492753623188406 kilowatt hour 'electricity production, hydro, pumped storage' (kilowatt hour, US-TRE, None) to 'electricity production, hydro, pumped storage, embodied' (kilowatt hour, GLO, None)>,\n",
       " Exchange: 0.014492753623188406 kilowatt hour 'electricity production, hydro, pumped storage' (kilowatt hour, IN-WB, None) to 'electricity production, hydro, pumped storage, embodied' (kilowatt hour, GLO, None)>,\n",
       " Exchange: 0.014492753623188406 kilowatt hour 'electricity production, hydro, pumped storage' (kilowatt hour, PT, None) to 'electricity production, hydro, pumped storage, embodied' (kilowatt hour, GLO, None)>,\n",
       " Exchange: 0.014492753623188406 kilowatt hour 'electricity production, hydro, pumped storage' (kilowatt hour, CZ, None) to 'electricity production, hydro, pumped storage, embodied' (kilowatt hour, GLO, None)>,\n",
       " Exchange: 0.014492753623188406 kilowatt hour 'electricity production, hydro, pumped storage' (kilowatt hour, AR, None) to 'electricity production, hydro, pumped storage, embodied' (kilowatt hour, GLO, None)>,\n",
       " Exchange: 0.014492753623188406 kilowatt hour 'electricity production, hydro, pumped storage' (kilowatt hour, CA-BC, None) to 'electricity production, hydro, pumped storage, embodied' (kilowatt hour, GLO, None)>,\n",
       " Exchange: 0.014492753623188406 kilowatt hour 'electricity production, hydro, pumped storage' (kilowatt hour, CN-ZJ, None) to 'electricity production, hydro, pumped storage, embodied' (kilowatt hour, GLO, None)>,\n",
       " Exchange: 0.014492753623188406 kilowatt hour 'electricity production, hydro, pumped storage' (kilowatt hour, IE, None) to 'electricity production, hydro, pumped storage, embodied' (kilowatt hour, GLO, None)>,\n",
       " Exchange: 0.014492753623188406 kilowatt hour 'electricity production, hydro, pumped storage' (kilowatt hour, JP, None) to 'electricity production, hydro, pumped storage, embodied' (kilowatt hour, GLO, None)>,\n",
       " Exchange: 0.014492753623188406 kilowatt hour 'electricity production, hydro, pumped storage' (kilowatt hour, HR, None) to 'electricity production, hydro, pumped storage, embodied' (kilowatt hour, GLO, None)>,\n",
       " Exchange: 0.014492753623188406 kilowatt hour 'electricity production, hydro, pumped storage' (kilowatt hour, BG, None) to 'electricity production, hydro, pumped storage, embodied' (kilowatt hour, GLO, None)>,\n",
       " Exchange: 0.014492753623188406 kilowatt hour 'electricity production, hydro, pumped storage' (kilowatt hour, US-SERC, None) to 'electricity production, hydro, pumped storage, embodied' (kilowatt hour, GLO, None)>,\n",
       " Exchange: 0.014492753623188406 kilowatt hour 'electricity production, hydro, pumped storage' (kilowatt hour, AT, None) to 'electricity production, hydro, pumped storage, embodied' (kilowatt hour, GLO, None)>,\n",
       " Exchange: 0.014492753623188406 kilowatt hour 'electricity production, hydro, pumped storage' (kilowatt hour, CN-GD, None) to 'electricity production, hydro, pumped storage, embodied' (kilowatt hour, GLO, None)>,\n",
       " Exchange: 0.014492753623188406 kilowatt hour 'electricity production, hydro, pumped storage' (kilowatt hour, CA-NS, None) to 'electricity production, hydro, pumped storage, embodied' (kilowatt hour, GLO, None)>,\n",
       " Exchange: 0.014492753623188406 kilowatt hour 'electricity production, hydro, pumped storage' (kilowatt hour, SK, None) to 'electricity production, hydro, pumped storage, embodied' (kilowatt hour, GLO, None)>,\n",
       " Exchange: 0.014492753623188406 kilowatt hour 'electricity production, hydro, pumped storage' (kilowatt hour, CA-SK, None) to 'electricity production, hydro, pumped storage, embodied' (kilowatt hour, GLO, None)>,\n",
       " Exchange: 0.014492753623188406 kilowatt hour 'electricity production, hydro, pumped storage' (kilowatt hour, US-RFC, None) to 'electricity production, hydro, pumped storage, embodied' (kilowatt hour, GLO, None)>,\n",
       " Exchange: 0.014492753623188406 kilowatt hour 'electricity production, hydro, pumped storage' (kilowatt hour, IN-TN, None) to 'electricity production, hydro, pumped storage, embodied' (kilowatt hour, GLO, None)>,\n",
       " Exchange: 0.014492753623188406 kilowatt hour 'electricity production, hydro, pumped storage' (kilowatt hour, NO, None) to 'electricity production, hydro, pumped storage, embodied' (kilowatt hour, GLO, None)>,\n",
       " Exchange: 0.014492753623188406 kilowatt hour 'electricity production, hydro, pumped storage' (kilowatt hour, BE, None) to 'electricity production, hydro, pumped storage, embodied' (kilowatt hour, GLO, None)>,\n",
       " Exchange: 0.014492753623188406 kilowatt hour 'electricity production, hydro, pumped storage' (kilowatt hour, BA, None) to 'electricity production, hydro, pumped storage, embodied' (kilowatt hour, GLO, None)>,\n",
       " Exchange: 0.014492753623188406 kilowatt hour 'electricity production, hydro, pumped storage' (kilowatt hour, SI, None) to 'electricity production, hydro, pumped storage, embodied' (kilowatt hour, GLO, None)>,\n",
       " Exchange: 0.014492753623188406 kilowatt hour 'electricity production, hydro, pumped storage' (kilowatt hour, SE, None) to 'electricity production, hydro, pumped storage, embodied' (kilowatt hour, GLO, None)>,\n",
       " Exchange: 0.014492753623188406 kilowatt hour 'electricity production, hydro, pumped storage' (kilowatt hour, CA-ON, None) to 'electricity production, hydro, pumped storage, embodied' (kilowatt hour, GLO, None)>,\n",
       " Exchange: 0.014492753623188406 kilowatt hour 'electricity production, hydro, pumped storage' (kilowatt hour, RoW, None) to 'electricity production, hydro, pumped storage, embodied' (kilowatt hour, GLO, None)>,\n",
       " Exchange: 0.014492753623188406 kilowatt hour 'electricity production, hydro, pumped storage' (kilowatt hour, CA-MB, None) to 'electricity production, hydro, pumped storage, embodied' (kilowatt hour, GLO, None)>,\n",
       " Exchange: 0.014492753623188406 kilowatt hour 'electricity production, hydro, pumped storage' (kilowatt hour, GR, None) to 'electricity production, hydro, pumped storage, embodied' (kilowatt hour, GLO, None)>,\n",
       " Exchange: 0.014492753623188406 kilowatt hour 'electricity production, hydro, pumped storage' (kilowatt hour, CN-HU, None) to 'electricity production, hydro, pumped storage, embodied' (kilowatt hour, GLO, None)>,\n",
       " Exchange: 0.014492753623188406 kilowatt hour 'electricity production, hydro, pumped storage' (kilowatt hour, DE, None) to 'electricity production, hydro, pumped storage, embodied' (kilowatt hour, GLO, None)>,\n",
       " Exchange: 0.014492753623188406 kilowatt hour 'electricity production, hydro, pumped storage' (kilowatt hour, IN-AP, None) to 'electricity production, hydro, pumped storage, embodied' (kilowatt hour, GLO, None)>,\n",
       " Exchange: 0.014492753623188406 kilowatt hour 'electricity production, hydro, pumped storage' (kilowatt hour, IN-MH, None) to 'electricity production, hydro, pumped storage, embodied' (kilowatt hour, GLO, None)>]"
      ]
     },
     "execution_count": 45,
     "metadata": {},
     "output_type": "execute_result"
    }
   ],
   "source": [
    "list(pumped_storage2.exchanges())"
   ]
  },
  {
   "cell_type": "code",
   "execution_count": 46,
   "metadata": {},
   "outputs": [
    {
     "data": {
      "text/plain": [
       "[('pumped hydro storage', '1'), ('pumped hydro storage', '2')]"
      ]
     },
     "execution_count": 46,
     "metadata": {},
     "output_type": "execute_result"
    }
   ],
   "source": [
    "list([pumped_storage.key, pumped_storage2.key])"
   ]
  },
  {
   "cell_type": "markdown",
   "metadata": {},
   "source": [
    "check if the technosphere matrix is square (an can be solved)"
   ]
  },
  {
   "cell_type": "markdown",
   "metadata": {},
   "source": [
    "## Load activity data from excel\n",
    "Data for synfuel production with H2 from PEM, methanisation and CO2 from atmosphere (DAC (CCU)). Datasets from Zhang et al. (2017)"
   ]
  },
  {
   "cell_type": "markdown",
   "metadata": {},
   "source": [
    "Download datasets from Zhang et al. (2017) supplementary information and safe it in a directory of your choice. www.doi.org/10.1016/j.apenergy.2016.12.098\n",
    "File path to input file"
   ]
  },
  {
   "cell_type": "code",
   "execution_count": 48,
   "metadata": {},
   "outputs": [],
   "source": [
    "filepath_Zhang = '<<<your path>>>/Synfuel+DAC.xlsx'"
   ]
  },
  {
   "cell_type": "markdown",
   "metadata": {},
   "source": [
    "Import activities"
   ]
  },
  {
   "cell_type": "code",
   "execution_count": 49,
   "metadata": {
    "scrolled": true
   },
   "outputs": [
    {
     "name": "stdout",
     "output_type": "stream",
     "text": [
      "Database already present, no import needed\n"
     ]
    }
   ],
   "source": [
    "if 'P2M Atmosphere' in bw.databases:\n",
    "    print('Database already present, no import needed')\n",
    "else:\n",
    "    Synfuel_ds = bw.ExcelImporter(filepath_Zhang)\n",
    "    Synfuel_ds.apply_strategies()\n",
    "    Synfuel_ds.match_database(fields=['name', 'unit', 'location'])\n",
    "    Synfuel_ds.match_database(\"ecoinvent 3.7.1 cutoff\",fields=['name', 'unit', 'location', 'reference product'])\n",
    "    Synfuel_ds.match_database(\"biosphere3\",fields=['name', 'unit', 'compartment'])\n",
    "    Synfuel_ds.statistics()"
   ]
  },
  {
   "cell_type": "markdown",
   "metadata": {},
   "source": [
    "In case there are unlinked exchanges, list them here:"
   ]
  },
  {
   "cell_type": "code",
   "execution_count": 50,
   "metadata": {
    "scrolled": false
   },
   "outputs": [
    {
     "name": "stdout",
     "output_type": "stream",
     "text": [
      "Database already present, no import needed\n"
     ]
    }
   ],
   "source": [
    "if 'P2M Atmosphere' in bw.databases:\n",
    "    print('Database already present, no import needed')\n",
    "else:\n",
    "    for exc in Synfuel_ds.unlinked:\n",
    "        print(exc)"
   ]
  },
  {
   "cell_type": "markdown",
   "metadata": {},
   "source": [
    "Still unlinked exchanges, so not writing database!\n",
    "\n",
    "Writing the imported datasets to a database"
   ]
  },
  {
   "cell_type": "code",
   "execution_count": 52,
   "metadata": {},
   "outputs": [
    {
     "name": "stdout",
     "output_type": "stream",
     "text": [
      "Database already present, no import needed\n"
     ]
    }
   ],
   "source": [
    "if 'P2M Atmosphere' in bw.databases:\n",
    "    print('Database already present, no import needed')\n",
    "else:\n",
    "    Synfuel_ds.write_excel()\n",
    "    Synfuel_ds.write_database()"
   ]
  },
  {
   "cell_type": "code",
   "execution_count": 53,
   "metadata": {},
   "outputs": [
    {
     "data": {
      "text/plain": [
       "26"
      ]
     },
     "execution_count": 53,
     "metadata": {},
     "output_type": "execute_result"
    }
   ],
   "source": [
    "Synfuel_db = bw.Database(\"P2M Atmosphere\")\n",
    "len(Synfuel_db)"
   ]
  },
  {
   "cell_type": "markdown",
   "metadata": {},
   "source": [
    "Select electricity production from methane, PEM, DAC"
   ]
  },
  {
   "cell_type": "code",
   "execution_count": 54,
   "metadata": {},
   "outputs": [
    {
     "data": {
      "text/plain": [
       "'electricity production, methane, from thermo-chemical methanation, PEM, DAC' (kilowatt hour, None, None)"
      ]
     },
     "execution_count": 54,
     "metadata": {},
     "output_type": "execute_result"
    }
   ],
   "source": [
    "el_CH4_PEM_DAC_key = [ds.key[1] for ds in Synfuel_db if 'electricity production' in ds['name']]\n",
    "el_CH4_PEM_DAC = Synfuel_db.get(el_CH4_PEM_DAC_key)\n",
    "el_CH4_PEM_DAC"
   ]
  },
  {
   "cell_type": "markdown",
   "metadata": {},
   "source": [
    "calculating turnaround efficiency"
   ]
  },
  {
   "cell_type": "code",
   "execution_count": 55,
   "metadata": {},
   "outputs": [
    {
     "data": {
      "text/plain": [
       "'methane, from thermo-chemical methanation, PEM Electrolyzer, CO2 from DAC' (cubic meter, None, None)"
      ]
     },
     "execution_count": 55,
     "metadata": {},
     "output_type": "execute_result"
    }
   ],
   "source": [
    "CH4_input_amount = np.sum([exc.amount for exc in el_CH4_PEM_DAC.exchanges() if 'methane' in exc.input['name']])\n",
    "CH4 = Synfuel_db.get([exc.input['code'] for exc in el_CH4_PEM_DAC.exchanges() if 'methane' in exc.input['name']])\n",
    "CH4"
   ]
  },
  {
   "cell_type": "code",
   "execution_count": 56,
   "metadata": {},
   "outputs": [
    {
     "data": {
      "text/plain": [
       "'carbon dioxide, captured from atmosphere' (kilogram, CH, None)"
      ]
     },
     "execution_count": 56,
     "metadata": {},
     "output_type": "execute_result"
    }
   ],
   "source": [
    "CO2_input_amount = np.sum([exc.amount for exc in CH4.exchanges() if 'carbon dioxide' in exc.input['name']])\n",
    "CO2 = Synfuel_db.get([exc.input['code'] for exc in CH4.exchanges() if 'carbon dioxide' in exc.input['name']])\n",
    "CO2"
   ]
  },
  {
   "cell_type": "code",
   "execution_count": 57,
   "metadata": {},
   "outputs": [
    {
     "data": {
      "text/plain": [
       "0.37"
      ]
     },
     "execution_count": 57,
     "metadata": {},
     "output_type": "execute_result"
    }
   ],
   "source": [
    "el_input_to_CO2_amount = np.sum([exc.amount for exc in CO2.exchanges() if 'market for electricity' in exc.input['name']])\n",
    "el_input_to_CO2_amount"
   ]
  },
  {
   "cell_type": "code",
   "execution_count": 58,
   "metadata": {},
   "outputs": [
    {
     "data": {
      "text/plain": [
       "'hydrogen, gaseous, from PEM electrolysis, 30 bars' (cubic meter, None, None)"
      ]
     },
     "execution_count": 58,
     "metadata": {},
     "output_type": "execute_result"
    }
   ],
   "source": [
    "H2_input_amount = np.sum([exc.amount for exc in CH4.exchanges() if 'hydrogen, gaseous' in exc.input['name']])\n",
    "H2 = Synfuel_db.get([exc.input['code'] for exc in CH4.exchanges() if 'hydrogen, gaseous' in exc.input['name']])\n",
    "H2"
   ]
  },
  {
   "cell_type": "code",
   "execution_count": 59,
   "metadata": {},
   "outputs": [
    {
     "data": {
      "text/plain": [
       "4.908353615549993"
      ]
     },
     "execution_count": 59,
     "metadata": {},
     "output_type": "execute_result"
    }
   ],
   "source": [
    "el_input_to_H2_amount = np.sum([exc.amount for exc in H2.exchanges() if 'market' and 'for electricity' in exc.input['name'] or 'electricity production' in exc.input['name']])\n",
    "el_input_to_H2_amount"
   ]
  },
  {
   "cell_type": "code",
   "execution_count": 60,
   "metadata": {},
   "outputs": [
    {
     "data": {
      "text/plain": [
       "6.085393448896195"
      ]
     },
     "execution_count": 60,
     "metadata": {},
     "output_type": "execute_result"
    }
   ],
   "source": [
    "el_input_CH4 = CH4_input_amount * (CO2_input_amount * el_input_to_CO2_amount + H2_input_amount * el_input_to_H2_amount)\n",
    "el_input_CH4"
   ]
  },
  {
   "cell_type": "code",
   "execution_count": 61,
   "metadata": {},
   "outputs": [
    {
     "data": {
      "text/plain": [
       "0.16432791213876008"
      ]
     },
     "execution_count": 61,
     "metadata": {},
     "output_type": "execute_result"
    }
   ],
   "source": [
    "Synfuel_CH4_PEM_DAC_turnaround_efficiency = 1/el_input_CH4\n",
    "Synfuel_CH4_PEM_DAC_turnaround_efficiency"
   ]
  },
  {
   "cell_type": "markdown",
   "metadata": {},
   "source": [
    "Create an inventory with only embodied energy by deleting all exchanges for operational energy in all datasets in the excel file.\n",
    "\n",
    "Importing the same database without operational electricity (i.e. only with embodied and auxiliary energy)"
   ]
  },
  {
   "cell_type": "code",
   "execution_count": 62,
   "metadata": {},
   "outputs": [],
   "source": [
    "filepath_synfuel_embodied = '<<<your path>>>/Synfuel+DAC_embodied.xlsx'"
   ]
  },
  {
   "cell_type": "code",
   "execution_count": 63,
   "metadata": {
    "scrolled": true
   },
   "outputs": [
    {
     "name": "stdout",
     "output_type": "stream",
     "text": [
      "Database already present, no import needed\n"
     ]
    }
   ],
   "source": [
    "if 'P2M Atmosphere embodied' in bw.databases:\n",
    "    print('Database already present, no import needed')\n",
    "else:\n",
    "    Synfuel_embodied_ds = bw.ExcelImporter(filepath_synfuel_embodied)\n",
    "    Synfuel_embodied_ds.apply_strategies()\n",
    "    Synfuel_embodied_ds.match_database(fields=['name', 'unit', 'location'])\n",
    "    Synfuel_embodied_ds.match_database(\"ecoinvent 3.7.1 cutoff\",fields=['name', 'unit', 'location', 'reference product'])\n",
    "    Synfuel_embodied_ds.match_database(\"biosphere3\",fields=['name', 'unit', 'compartment'])\n",
    "    Synfuel_embodied_ds.statistics()"
   ]
  },
  {
   "cell_type": "markdown",
   "metadata": {},
   "source": [
    "In case there are unlinked exchanges, list them here:"
   ]
  },
  {
   "cell_type": "code",
   "execution_count": 64,
   "metadata": {
    "scrolled": false
   },
   "outputs": [
    {
     "name": "stdout",
     "output_type": "stream",
     "text": [
      "Database already present, no import needed\n"
     ]
    }
   ],
   "source": [
    "if 'P2M Atmosphere embodied' in bw.databases:\n",
    "    print('Database already present, no import needed')\n",
    "else:\n",
    "    for exc in Synfuel_embodied_ds.unlinked:\n",
    "        print(exc)"
   ]
  },
  {
   "cell_type": "markdown",
   "metadata": {},
   "source": [
    "Still unlinked exchanges, so not writing database!\n",
    "\n",
    "Writing the imported datasets to a database"
   ]
  },
  {
   "cell_type": "code",
   "execution_count": 67,
   "metadata": {
    "scrolled": true
   },
   "outputs": [
    {
     "name": "stdout",
     "output_type": "stream",
     "text": [
      "Database already present, no import needed\n"
     ]
    }
   ],
   "source": [
    "if 'P2M Atmosphere embodied' in bw.databases:\n",
    "    print('Database already present, no import needed')\n",
    "else:\n",
    "    Synfuel_embodied_ds.write_excel()\n",
    "    Synfuel_embodied_ds.write_database()"
   ]
  },
  {
   "cell_type": "code",
   "execution_count": 68,
   "metadata": {},
   "outputs": [
    {
     "data": {
      "text/plain": [
       "26"
      ]
     },
     "execution_count": 68,
     "metadata": {},
     "output_type": "execute_result"
    }
   ],
   "source": [
    "Synfuel_embodied_db = bw.Database(\"P2M Atmosphere embodied\")\n",
    "len(Synfuel_embodied_db)"
   ]
  },
  {
   "cell_type": "markdown",
   "metadata": {},
   "source": [
    "Select electricity production from methane, PEM, DAC"
   ]
  },
  {
   "cell_type": "code",
   "execution_count": 69,
   "metadata": {},
   "outputs": [
    {
     "data": {
      "text/plain": [
       "'electricity production, methane, from thermo-chemical methanation, PEM, DAC' (kilowatt hour, None, None)"
      ]
     },
     "execution_count": 69,
     "metadata": {},
     "output_type": "execute_result"
    }
   ],
   "source": [
    "el_CH4_PEM_DAC_embodied_key = [ds.key[1] for ds in Synfuel_embodied_db if 'electricity production' in ds['name']]\n",
    "#el_CH4_PEM_DAC_embodied_key\n",
    "el_CH4_PEM_DAC_embodied = Synfuel_embodied_db.get(el_CH4_PEM_DAC_embodied_key)\n",
    "el_CH4_PEM_DAC_embodied"
   ]
  },
  {
   "cell_type": "markdown",
   "metadata": {},
   "source": [
    "### Battery datasets (Crenna et al. 2021)\n",
    "Loading datasets from Crenna et al. 2021 (now alos contained in ecoinvent v3.8). If you donÄt have ecoinvent 3.8, an excel inventory file needs to be created in the same structure as Zhang et al. www.doi.org/10.1016/j.resconrec.2021.105619"
   ]
  },
  {
   "cell_type": "code",
   "execution_count": 72,
   "metadata": {},
   "outputs": [],
   "source": [
    "filepath_battery = '<<<your path>>>/Battery_db.xlsx'"
   ]
  },
  {
   "cell_type": "code",
   "execution_count": 73,
   "metadata": {},
   "outputs": [
    {
     "name": "stdout",
     "output_type": "stream",
     "text": [
      "Extracted 4 worksheets in 0.15 seconds\n",
      "Applying strategy: csv_restore_tuples\n",
      "Applying strategy: csv_restore_booleans\n",
      "Applying strategy: csv_numerize\n",
      "Applying strategy: csv_drop_unknown\n",
      "Applying strategy: csv_add_missing_exchanges_section\n",
      "Applying strategy: normalize_units\n",
      "Applying strategy: normalize_biosphere_categories\n",
      "Applying strategy: normalize_biosphere_names\n",
      "Applying strategy: strip_biosphere_exc_locations\n",
      "Applying strategy: set_code_by_activity_hash\n",
      "Applying strategy: link_iterable_by_fields\n",
      "Applying strategy: assign_only_product_as_production\n",
      "Applying strategy: link_technosphere_by_activity_hash\n",
      "Applying strategy: drop_falsey_uncertainty_fields_but_keep_zeros\n",
      "Applying strategy: convert_uncertainty_types_to_integers\n",
      "Applying strategy: convert_activity_parameters_to_list\n",
      "Applied 16 strategies in 0.33 seconds\n",
      "Applying strategy: link_iterable_by_fields\n",
      "Applying strategy: link_iterable_by_fields\n",
      "Applying strategy: link_iterable_by_fields\n",
      "31 datasets\n",
      "349 exchanges\n",
      "0 unlinked exchanges\n",
      "  \n"
     ]
    }
   ],
   "source": [
    "if 'Empa Battery Database' in bw.databases:\n",
    "    print('Database already present, no import needed')\n",
    "else:\n",
    "    Battery_db = bw.ExcelImporter(filepath_battery)\n",
    "    Battery_db.apply_strategies()\n",
    "    Battery_db.match_database(fields=['name', 'unit', 'location'])\n",
    "    Battery_db.match_database(\"ecoinvent 3.7.1 cutoff\",fields=['name', 'unit', 'location', 'reference product'])\n",
    "    Battery_db.match_database(\"biosphere3\",fields=['name', 'unit', 'compartment'])\n",
    "    Battery_db.statistics()"
   ]
  },
  {
   "cell_type": "code",
   "execution_count": 74,
   "metadata": {
    "scrolled": false
   },
   "outputs": [],
   "source": [
    "if 'Empa Battery Database' in bw.databases:\n",
    "    print('Database already present, no import needed')\n",
    "else:\n",
    "    for exc in list(Battery_db.unlinked):\n",
    "        print(exc)"
   ]
  },
  {
   "cell_type": "code",
   "execution_count": 75,
   "metadata": {},
   "outputs": [],
   "source": [
    "#list(Battery_db.unlinked)"
   ]
  },
  {
   "cell_type": "markdown",
   "metadata": {},
   "source": [
    "Write database"
   ]
  },
  {
   "cell_type": "code",
   "execution_count": 76,
   "metadata": {
    "scrolled": true
   },
   "outputs": [
    {
     "name": "stderr",
     "output_type": "stream",
     "text": [
      "Writing activities to SQLite3 database:\n"
     ]
    },
    {
     "name": "stdout",
     "output_type": "stream",
     "text": [
      "Wrote matching file to:\n",
      "C:\\Users\\dha\\AppData\\Local\\pylca\\Brightway3\\Energy_storage_LCA.973a4c974012c913c92ae61bd43e2cf6\\output\\db-matching-Empa-Battery-Database.xlsx\n"
     ]
    },
    {
     "name": "stderr",
     "output_type": "stream",
     "text": [
      "0% [##############################] 100% | ETA: 00:00:00\n",
      "Total time elapsed: 00:00:00\n"
     ]
    },
    {
     "name": "stdout",
     "output_type": "stream",
     "text": [
      "Title: Writing activities to SQLite3 database:\n",
      "  Started: 06/01/2021 08:11:09\n",
      "  Finished: 06/01/2021 08:11:09\n",
      "  Total time elapsed: 00:00:00\n",
      "  CPU %: 71.00\n",
      "  Memory %: 1.63\n",
      "Created database: Empa Battery Database\n"
     ]
    }
   ],
   "source": [
    "if 'Empa Battery Database' in bw.databases:\n",
    "    print('Database already present, no import needed')\n",
    "else:\n",
    "    Battery_db.write_excel()\n",
    "    Battery_db.write_database()"
   ]
  },
  {
   "cell_type": "code",
   "execution_count": 77,
   "metadata": {},
   "outputs": [
    {
     "data": {
      "text/plain": [
       "31"
      ]
     },
     "execution_count": 77,
     "metadata": {},
     "output_type": "execute_result"
    }
   ],
   "source": [
    "Battery_db = bw.Database(\"Empa Battery Database\")\n",
    "len(Battery_db)"
   ]
  },
  {
   "cell_type": "code",
   "execution_count": 78,
   "metadata": {},
   "outputs": [
    {
     "data": {
      "text/plain": [
       "'battery, Li-ion, NMC111, rechargeable, prismatic' (kilogram, GLO, None)"
      ]
     },
     "execution_count": 78,
     "metadata": {},
     "output_type": "execute_result"
    }
   ],
   "source": [
    "NMC111_key = [act.key[1] for act in Battery_db if 'battery, Li-ion, NMC111' in act['name']][0] \n",
    "NMC111 = Battery_db.get(NMC111_key)\n",
    "NMC111"
   ]
  },
  {
   "cell_type": "code",
   "execution_count": 79,
   "metadata": {},
   "outputs": [
    {
     "data": {
      "text/plain": [
       "'battery, Li-ion, NMC811, rechargeable, prismatic' (kilogram, GLO, None)"
      ]
     },
     "execution_count": 79,
     "metadata": {},
     "output_type": "execute_result"
    }
   ],
   "source": [
    "NMC811_key = [act.key[1] for act in Battery_db if 'battery, Li-ion, NMC811' in act['name']][0] \n",
    "NMC811 = Battery_db.get(NMC811_key)\n",
    "NMC811"
   ]
  },
  {
   "cell_type": "code",
   "execution_count": 80,
   "metadata": {},
   "outputs": [
    {
     "data": {
      "text/plain": [
       "'battery, Li-ion, NCA, rechargeable, prismatic' (kilogram, GLO, None)"
      ]
     },
     "execution_count": 80,
     "metadata": {},
     "output_type": "execute_result"
    }
   ],
   "source": [
    "NCA_key = [act.key[1] for act in Battery_db if 'battery, Li-ion, NCA' in act['name']][0] \n",
    "NCA = Battery_db.get(NCA_key)\n",
    "NCA"
   ]
  },
  {
   "cell_type": "code",
   "execution_count": 81,
   "metadata": {},
   "outputs": [
    {
     "data": {
      "text/plain": [
       "'cobalt hydroxide' (kilogram, CO, None)"
      ]
     },
     "execution_count": 81,
     "metadata": {},
     "output_type": "execute_result"
    }
   ],
   "source": [
    "Co_key = [act.key[1] for act in Battery_db if 'cobalt hydroxide' in act['name']][0] \n",
    "Co = Battery_db.get(Co_key)\n",
    "Co"
   ]
  },
  {
   "cell_type": "markdown",
   "metadata": {},
   "source": [
    "## Performing LCA:\n",
    "using a calculation setup and multi LCA\n",
    "\n",
    "Functional unit: \"storage of 1 kWh output in electric energy\""
   ]
  },
  {
   "cell_type": "markdown",
   "metadata": {},
   "source": [
    "List of alternatives to compare. Functional unit is always 1.\n",
    "- pumped hydro\n",
    "- compresed air\n",
    "- rail energy storage\n",
    "- batteries"
   ]
  },
  {
   "cell_type": "code",
   "execution_count": 82,
   "metadata": {
    "scrolled": true
   },
   "outputs": [
    {
     "data": {
      "text/plain": [
       "[{('pumped hydro storage', '1'): 1},\n",
       " {('pumped hydro storage', '2'): 1},\n",
       " {('P2M Atmosphere', '055a72261a723d34e5241587049c16d9'): 1},\n",
       " {('P2M Atmosphere embodied', '055a72261a723d34e5241587049c16d9'): 1}]"
      ]
     },
     "execution_count": 82,
     "metadata": {},
     "output_type": "execute_result"
    }
   ],
   "source": [
    "list_functional_units = [{pumped_storage.key:1}, {pumped_storage2.key:1}, {el_CH4_PEM_DAC.key:1}, {el_CH4_PEM_DAC_embodied.key:1}]\n",
    "#list_methods = [GWP.name, ADP.name, biodiv.name, UBP.name]\n",
    "list_methods = LCIA_methods # or CED or resource consumption\n",
    "list_functional_units"
   ]
  },
  {
   "cell_type": "code",
   "execution_count": 83,
   "metadata": {},
   "outputs": [],
   "source": [
    "bw.calculation_setups['energy_storage_LCA'] = {'inv':list_functional_units, 'ia':list_methods}"
   ]
  },
  {
   "cell_type": "code",
   "execution_count": 84,
   "metadata": {},
   "outputs": [],
   "source": [
    "Energy_storage_LCA = bw.MultiLCA('energy_storage_LCA')"
   ]
  },
  {
   "cell_type": "code",
   "execution_count": 85,
   "metadata": {},
   "outputs": [
    {
     "data": {
      "text/plain": [
       "(4, 36)"
      ]
     },
     "execution_count": 85,
     "metadata": {},
     "output_type": "execute_result"
    }
   ],
   "source": [
    "Energy_storage_LCA.results.shape"
   ]
  },
  {
   "cell_type": "code",
   "execution_count": 86,
   "metadata": {},
   "outputs": [],
   "source": [
    "results = Energy_storage_LCA.results"
   ]
  },
  {
   "cell_type": "code",
   "execution_count": 87,
   "metadata": {},
   "outputs": [
    {
     "data": {
      "text/plain": [
       "array([34])"
      ]
     },
     "execution_count": 87,
     "metadata": {},
     "output_type": "execute_result"
    }
   ],
   "source": [
    "index_CED = np.zeros(1, dtype=int)\n",
    "m_i=0\n",
    "i=0\n",
    "for m in Energy_storage_LCA.methods:\n",
    "    if 'cumulative energy demand' in str(m) and 'total' in str(m) and 'electricity' not in str(m):\n",
    "        index_CED[i] = m_i\n",
    "        i+=1\n",
    "    m_i+=1\n",
    "\n",
    "index_CED"
   ]
  },
  {
   "cell_type": "code",
   "execution_count": 88,
   "metadata": {
    "scrolled": true
   },
   "outputs": [
    {
     "data": {
      "text/plain": [
       "array([[15.7233211 ],\n",
       "       [ 0.0580086 ],\n",
       "       [31.86709388],\n",
       "       [ 0.52075458]])"
      ]
     },
     "execution_count": 88,
     "metadata": {},
     "output_type": "execute_result"
    }
   ],
   "source": [
    "storage_CED_total = results[:,index_CED]\n",
    "storage_CED_total"
   ]
  },
  {
   "cell_type": "code",
   "execution_count": 89,
   "metadata": {},
   "outputs": [
    {
     "data": {
      "text/plain": [
       "array([35])"
      ]
     },
     "execution_count": 89,
     "metadata": {},
     "output_type": "execute_result"
    }
   ],
   "source": [
    "index_CED_el = np.zeros(1, dtype=int)\n",
    "m_i=0\n",
    "i=0\n",
    "for m in Energy_storage_LCA.methods:\n",
    "    if 'cumulative energy demand' in str(m) and 'total' in str(m) and 'electricity' in str(m):\n",
    "        index_CED_el[i] = m_i\n",
    "        i+=1\n",
    "    m_i+=1\n",
    "\n",
    "index_CED_el"
   ]
  },
  {
   "cell_type": "code",
   "execution_count": 90,
   "metadata": {
    "scrolled": true
   },
   "outputs": [
    {
     "data": {
      "text/plain": [
       "array([[6.53726625e+00],\n",
       "       [2.28527366e-02],\n",
       "       [2.68345140e+01],\n",
       "       [2.23989356e-01]])"
      ]
     },
     "execution_count": 90,
     "metadata": {},
     "output_type": "execute_result"
    }
   ],
   "source": [
    "storage_CED_el_total = results[:,index_CED_el]\n",
    "storage_CED_el_total"
   ]
  },
  {
   "cell_type": "markdown",
   "metadata": {},
   "source": [
    "converting the results into embodied energy per stored energy (i.e. the functional unit of 1 kWh); therefore converting CED_el (which is in MJ) into kWh (1 MJ = 1/3.6 kWh) "
   ]
  },
  {
   "cell_type": "code",
   "execution_count": 91,
   "metadata": {},
   "outputs": [
    {
     "data": {
      "text/plain": [
       "array([[1.81590729e+00],\n",
       "       [6.34798238e-03],\n",
       "       [7.45403166e+00],\n",
       "       [6.22192655e-02]])"
      ]
     },
     "execution_count": 91,
     "metadata": {},
     "output_type": "execute_result"
    }
   ],
   "source": [
    "embodied_energy_per_stored_energy = storage_CED_el_total / 3.6\n",
    "embodied_energy_per_stored_energy"
   ]
  },
  {
   "cell_type": "markdown",
   "metadata": {},
   "source": [
    "Display of results"
   ]
  },
  {
   "cell_type": "code",
   "execution_count": 92,
   "metadata": {
    "scrolled": true
   },
   "outputs": [
    {
     "data": {
      "text/html": [
       "<div>\n",
       "<style scoped>\n",
       "    .dataframe tbody tr th:only-of-type {\n",
       "        vertical-align: middle;\n",
       "    }\n",
       "\n",
       "    .dataframe tbody tr th {\n",
       "        vertical-align: top;\n",
       "    }\n",
       "\n",
       "    .dataframe thead th {\n",
       "        text-align: right;\n",
       "    }\n",
       "</style>\n",
       "<table border=\"1\" class=\"dataframe\">\n",
       "  <thead>\n",
       "    <tr style=\"text-align: right;\">\n",
       "      <th></th>\n",
       "      <th>0</th>\n",
       "      <th>1</th>\n",
       "      <th>2</th>\n",
       "      <th>3</th>\n",
       "    </tr>\n",
       "  </thead>\n",
       "  <tbody>\n",
       "    <tr>\n",
       "      <th>Database</th>\n",
       "      <td>pumped hydro storage</td>\n",
       "      <td>pumped hydro storage</td>\n",
       "      <td>P2M Atmosphere</td>\n",
       "      <td>P2M Atmosphere embodied</td>\n",
       "    </tr>\n",
       "    <tr>\n",
       "      <th>Code</th>\n",
       "      <td>1</td>\n",
       "      <td>2</td>\n",
       "      <td>055a72261a723d34e5241587049c16d9</td>\n",
       "      <td>055a72261a723d34e5241587049c16d9</td>\n",
       "    </tr>\n",
       "    <tr>\n",
       "      <th>Name</th>\n",
       "      <td>electricity production, hydro, pumped storage</td>\n",
       "      <td>electricity production, hydro, pumped storage,...</td>\n",
       "      <td>electricity production, methane, from thermo-c...</td>\n",
       "      <td>electricity production, methane, from thermo-c...</td>\n",
       "    </tr>\n",
       "    <tr>\n",
       "      <th>Unit</th>\n",
       "      <td>kilowatt hour</td>\n",
       "      <td>kilowatt hour</td>\n",
       "      <td>kilowatt hour</td>\n",
       "      <td>kilowatt hour</td>\n",
       "    </tr>\n",
       "    <tr>\n",
       "      <th>Amount</th>\n",
       "      <td>1</td>\n",
       "      <td>1</td>\n",
       "      <td>1</td>\n",
       "      <td>1</td>\n",
       "    </tr>\n",
       "    <tr>\n",
       "      <th>(EDIP (obsolete), resource consumption, non-renewable resources, antimony)</th>\n",
       "      <td>1.62343e-11</td>\n",
       "      <td>7.86662e-13</td>\n",
       "      <td>2.0151e-09</td>\n",
       "      <td>1.21519e-11</td>\n",
       "    </tr>\n",
       "    <tr>\n",
       "      <th>(EDIP (obsolete), resource consumption, non-renewable resources, cadmium)</th>\n",
       "      <td>1.53875e-09</td>\n",
       "      <td>1.59023e-10</td>\n",
       "      <td>5.75206e-08</td>\n",
       "      <td>6.4122e-10</td>\n",
       "    </tr>\n",
       "    <tr>\n",
       "      <th>(EDIP (obsolete), resource consumption, non-renewable resources, cerium)</th>\n",
       "      <td>1.05249e-08</td>\n",
       "      <td>4.00645e-10</td>\n",
       "      <td>4.8112e-07</td>\n",
       "      <td>2.84903e-08</td>\n",
       "    </tr>\n",
       "    <tr>\n",
       "      <th>(EDIP (obsolete), resource consumption, non-renewable resources, copper)</th>\n",
       "      <td>3.11366e-05</td>\n",
       "      <td>1.22891e-06</td>\n",
       "      <td>0.00220803</td>\n",
       "      <td>7.16185e-05</td>\n",
       "    </tr>\n",
       "    <tr>\n",
       "      <th>(EDIP (obsolete), resource consumption, non-renewable resources, molybdenum)</th>\n",
       "      <td>0</td>\n",
       "      <td>0</td>\n",
       "      <td>0</td>\n",
       "      <td>0</td>\n",
       "    </tr>\n",
       "    <tr>\n",
       "      <th>(EDIP (obsolete), resource consumption, non-renewable resources, gold)</th>\n",
       "      <td>5.00827e-10</td>\n",
       "      <td>1.77778e-11</td>\n",
       "      <td>2.04113e-07</td>\n",
       "      <td>2.98429e-09</td>\n",
       "    </tr>\n",
       "    <tr>\n",
       "      <th>(EDIP (obsolete), resource consumption, non-renewable resources, iron)</th>\n",
       "      <td>0.00256298</td>\n",
       "      <td>0.000312186</td>\n",
       "      <td>0.00867824</td>\n",
       "      <td>0.00136976</td>\n",
       "    </tr>\n",
       "    <tr>\n",
       "      <th>(EDIP (obsolete), resource consumption, non-renewable resources, lanthanum)</th>\n",
       "      <td>6.87501e-09</td>\n",
       "      <td>2.59844e-10</td>\n",
       "      <td>3.15921e-07</td>\n",
       "      <td>1.9803e-08</td>\n",
       "    </tr>\n",
       "    <tr>\n",
       "      <th>(EDIP (obsolete), resource consumption, non-renewable resources, lead)</th>\n",
       "      <td>2.88366e-06</td>\n",
       "      <td>2.93152e-07</td>\n",
       "      <td>0.000109285</td>\n",
       "      <td>1.21621e-06</td>\n",
       "    </tr>\n",
       "    <tr>\n",
       "      <th>(EDIP (obsolete), resource consumption, non-renewable resources, manganese)</th>\n",
       "      <td>3.49468e-05</td>\n",
       "      <td>5.66405e-06</td>\n",
       "      <td>0.000208768</td>\n",
       "      <td>2.87249e-05</td>\n",
       "    </tr>\n",
       "    <tr>\n",
       "      <th>(EDIP (obsolete), resource consumption, non-renewable resources, mercury)</th>\n",
       "      <td>2.11247e-11</td>\n",
       "      <td>3.11933e-13</td>\n",
       "      <td>6.08113e-10</td>\n",
       "      <td>7.08188e-11</td>\n",
       "    </tr>\n",
       "    <tr>\n",
       "      <th>(EDIP (obsolete), resource consumption, non-renewable resources, nickel)</th>\n",
       "      <td>2.94004e-05</td>\n",
       "      <td>1.21611e-05</td>\n",
       "      <td>0.000280608</td>\n",
       "      <td>0.000156293</td>\n",
       "    </tr>\n",
       "    <tr>\n",
       "      <th>(EDIP (obsolete), resource consumption, non-renewable resources, palladium)</th>\n",
       "      <td>2.21366e-10</td>\n",
       "      <td>8.6816e-12</td>\n",
       "      <td>2.88114e-08</td>\n",
       "      <td>2.59044e-08</td>\n",
       "    </tr>\n",
       "    <tr>\n",
       "      <th>(EDIP (obsolete), resource consumption, non-renewable resources, platinum)</th>\n",
       "      <td>2.52898e-10</td>\n",
       "      <td>6.4688e-12</td>\n",
       "      <td>3.93356e-08</td>\n",
       "      <td>3.788e-08</td>\n",
       "    </tr>\n",
       "    <tr>\n",
       "      <th>(EDIP (obsolete), resource consumption, non-renewable resources, silver)</th>\n",
       "      <td>1.58488e-08</td>\n",
       "      <td>9.02114e-10</td>\n",
       "      <td>5.86699e-06</td>\n",
       "      <td>1.77414e-08</td>\n",
       "    </tr>\n",
       "    <tr>\n",
       "      <th>(EDIP (obsolete), resource consumption, non-renewable resources, tantalum)</th>\n",
       "      <td>1.36206e-09</td>\n",
       "      <td>4.58419e-11</td>\n",
       "      <td>3.60797e-06</td>\n",
       "      <td>8.9142e-09</td>\n",
       "    </tr>\n",
       "    <tr>\n",
       "      <th>(EDIP (obsolete), resource consumption, non-renewable resources, tin)</th>\n",
       "      <td>4.3979e-08</td>\n",
       "      <td>5.23865e-09</td>\n",
       "      <td>1.50474e-05</td>\n",
       "      <td>7.9196e-08</td>\n",
       "    </tr>\n",
       "    <tr>\n",
       "      <th>(EDIP (obsolete), resource consumption, non-renewable resources, zinc)</th>\n",
       "      <td>1.32338e-05</td>\n",
       "      <td>1.35927e-06</td>\n",
       "      <td>0.000498007</td>\n",
       "      <td>5.56014e-06</td>\n",
       "    </tr>\n",
       "    <tr>\n",
       "      <th>(EDIP (obsolete), resource consumption, non-renewable resources, aluminium)</th>\n",
       "      <td>7.93625e-05</td>\n",
       "      <td>5.00208e-06</td>\n",
       "      <td>0.00605573</td>\n",
       "      <td>0.000842103</td>\n",
       "    </tr>\n",
       "    <tr>\n",
       "      <th>(EDIP (obsolete), resource consumption, non-renewable resources, brown coal)</th>\n",
       "      <td>0.207791</td>\n",
       "      <td>0.000253074</td>\n",
       "      <td>0.0456776</td>\n",
       "      <td>0.00197365</td>\n",
       "    </tr>\n",
       "    <tr>\n",
       "      <th>(EDIP (obsolete), resource consumption, non-renewable resources, coal)</th>\n",
       "      <td>0.312971</td>\n",
       "      <td>0.00079336</td>\n",
       "      <td>0.127688</td>\n",
       "      <td>0.00636842</td>\n",
       "    </tr>\n",
       "    <tr>\n",
       "      <th>(EDIP (obsolete), resource consumption, non-renewable resources, cobalt)</th>\n",
       "      <td>8.46864e-08</td>\n",
       "      <td>1.4501e-08</td>\n",
       "      <td>3.3169e-06</td>\n",
       "      <td>3.7189e-07</td>\n",
       "    </tr>\n",
       "    <tr>\n",
       "      <th>(EDIP (obsolete), resource consumption, non-renewable resources, natural gas)</th>\n",
       "      <td>0.0524225</td>\n",
       "      <td>0.000169162</td>\n",
       "      <td>0.0396405</td>\n",
       "      <td>0.00255075</td>\n",
       "    </tr>\n",
       "    <tr>\n",
       "      <th>(EDIP (obsolete), resource consumption, non-renewable resources, oil)</th>\n",
       "      <td>0.0156422</td>\n",
       "      <td>0.000478988</td>\n",
       "      <td>0.0275268</td>\n",
       "      <td>0.00298388</td>\n",
       "    </tr>\n",
       "    <tr>\n",
       "      <th>(EDIP (obsolete), resource consumption, renewable resources, wood)</th>\n",
       "      <td>1.81564e-05</td>\n",
       "      <td>7.41325e-08</td>\n",
       "      <td>2.10812e-05</td>\n",
       "      <td>4.92529e-07</td>\n",
       "    </tr>\n",
       "    <tr>\n",
       "      <th>(ILCD 2.0 2018 midpoint, climate change, climate change total)</th>\n",
       "      <td>1.02345</td>\n",
       "      <td>0.0361245</td>\n",
       "      <td>0.502818</td>\n",
       "      <td>0.0250775</td>\n",
       "    </tr>\n",
       "    <tr>\n",
       "      <th>(cumulative energy demand, biomass, renewable energy resources, biomass)</th>\n",
       "      <td>0.200345</td>\n",
       "      <td>0.00083863</td>\n",
       "      <td>0.246681</td>\n",
       "      <td>0.0056419</td>\n",
       "    </tr>\n",
       "    <tr>\n",
       "      <th>(cumulative energy demand, fossil, non-renewable energy resources, fossil)</th>\n",
       "      <td>11.2818</td>\n",
       "      <td>0.0477218</td>\n",
       "      <td>6.05311</td>\n",
       "      <td>0.400043</td>\n",
       "    </tr>\n",
       "    <tr>\n",
       "      <th>(cumulative energy demand, geothermal, renewable energy resources, geothermal, converted)</th>\n",
       "      <td>0.0124994</td>\n",
       "      <td>6.6142e-05</td>\n",
       "      <td>0.0101764</td>\n",
       "      <td>0.000209799</td>\n",
       "    </tr>\n",
       "    <tr>\n",
       "      <th>(cumulative energy demand, nuclear, non-renewable energy resources, nuclear)</th>\n",
       "      <td>2.70959</td>\n",
       "      <td>0.00594691</td>\n",
       "      <td>1.4529</td>\n",
       "      <td>0.0544829</td>\n",
       "    </tr>\n",
       "    <tr>\n",
       "      <th>(cumulative energy demand, primary forest, non-renewable energy resources, primary forest)</th>\n",
       "      <td>5.90216e-05</td>\n",
       "      <td>6.98938e-07</td>\n",
       "      <td>0.000188691</td>\n",
       "      <td>3.5562e-06</td>\n",
       "    </tr>\n",
       "    <tr>\n",
       "      <th>(cumulative energy demand, solar, renewable energy resources, solar, converted)</th>\n",
       "      <td>6.31312e-05</td>\n",
       "      <td>1.2387e-05</td>\n",
       "      <td>22.6104</td>\n",
       "      <td>0.000117233</td>\n",
       "    </tr>\n",
       "    <tr>\n",
       "      <th>(cumulative energy demand, water, renewable energy resources, potential (in barrage water), converted)</th>\n",
       "      <td>1.15715</td>\n",
       "      <td>0.00274552</td>\n",
       "      <td>1.38015</td>\n",
       "      <td>0.0575175</td>\n",
       "    </tr>\n",
       "    <tr>\n",
       "      <th>(cumulative energy demand, wind, renewable energy resources, kinetic (in wind), converted)</th>\n",
       "      <td>0.361858</td>\n",
       "      <td>0.00067654</td>\n",
       "      <td>0.113544</td>\n",
       "      <td>0.00273858</td>\n",
       "    </tr>\n",
       "    <tr>\n",
       "      <th>(cumulative energy demand, total, energy resources, total)</th>\n",
       "      <td>15.7233</td>\n",
       "      <td>0.0580086</td>\n",
       "      <td>31.8671</td>\n",
       "      <td>0.520755</td>\n",
       "    </tr>\n",
       "    <tr>\n",
       "      <th>(cumulative energy demand, electricity, total, energy resources, total)</th>\n",
       "      <td>6.53727</td>\n",
       "      <td>0.0228527</td>\n",
       "      <td>26.8345</td>\n",
       "      <td>0.223989</td>\n",
       "    </tr>\n",
       "  </tbody>\n",
       "</table>\n",
       "</div>"
      ],
      "text/plain": [
       "                                                                                                0  \\\n",
       "Database                                                                     pumped hydro storage   \n",
       "Code                                                                                            1   \n",
       "Name                                                electricity production, hydro, pumped storage   \n",
       "Unit                                                                                kilowatt hour   \n",
       "Amount                                                                                          1   \n",
       "(EDIP (obsolete), resource consumption, non-ren...                                    1.62343e-11   \n",
       "(EDIP (obsolete), resource consumption, non-ren...                                    1.53875e-09   \n",
       "(EDIP (obsolete), resource consumption, non-ren...                                    1.05249e-08   \n",
       "(EDIP (obsolete), resource consumption, non-ren...                                    3.11366e-05   \n",
       "(EDIP (obsolete), resource consumption, non-ren...                                              0   \n",
       "(EDIP (obsolete), resource consumption, non-ren...                                    5.00827e-10   \n",
       "(EDIP (obsolete), resource consumption, non-ren...                                     0.00256298   \n",
       "(EDIP (obsolete), resource consumption, non-ren...                                    6.87501e-09   \n",
       "(EDIP (obsolete), resource consumption, non-ren...                                    2.88366e-06   \n",
       "(EDIP (obsolete), resource consumption, non-ren...                                    3.49468e-05   \n",
       "(EDIP (obsolete), resource consumption, non-ren...                                    2.11247e-11   \n",
       "(EDIP (obsolete), resource consumption, non-ren...                                    2.94004e-05   \n",
       "(EDIP (obsolete), resource consumption, non-ren...                                    2.21366e-10   \n",
       "(EDIP (obsolete), resource consumption, non-ren...                                    2.52898e-10   \n",
       "(EDIP (obsolete), resource consumption, non-ren...                                    1.58488e-08   \n",
       "(EDIP (obsolete), resource consumption, non-ren...                                    1.36206e-09   \n",
       "(EDIP (obsolete), resource consumption, non-ren...                                     4.3979e-08   \n",
       "(EDIP (obsolete), resource consumption, non-ren...                                    1.32338e-05   \n",
       "(EDIP (obsolete), resource consumption, non-ren...                                    7.93625e-05   \n",
       "(EDIP (obsolete), resource consumption, non-ren...                                       0.207791   \n",
       "(EDIP (obsolete), resource consumption, non-ren...                                       0.312971   \n",
       "(EDIP (obsolete), resource consumption, non-ren...                                    8.46864e-08   \n",
       "(EDIP (obsolete), resource consumption, non-ren...                                      0.0524225   \n",
       "(EDIP (obsolete), resource consumption, non-ren...                                      0.0156422   \n",
       "(EDIP (obsolete), resource consumption, renewab...                                    1.81564e-05   \n",
       "(ILCD 2.0 2018 midpoint, climate change, climat...                                        1.02345   \n",
       "(cumulative energy demand, biomass, renewable e...                                       0.200345   \n",
       "(cumulative energy demand, fossil, non-renewabl...                                        11.2818   \n",
       "(cumulative energy demand, geothermal, renewabl...                                      0.0124994   \n",
       "(cumulative energy demand, nuclear, non-renewab...                                        2.70959   \n",
       "(cumulative energy demand, primary forest, non-...                                    5.90216e-05   \n",
       "(cumulative energy demand, solar, renewable ene...                                    6.31312e-05   \n",
       "(cumulative energy demand, water, renewable ene...                                        1.15715   \n",
       "(cumulative energy demand, wind, renewable ener...                                       0.361858   \n",
       "(cumulative energy demand, total, energy resour...                                        15.7233   \n",
       "(cumulative energy demand, electricity, total, ...                                        6.53727   \n",
       "\n",
       "                                                                                                    1  \\\n",
       "Database                                                                         pumped hydro storage   \n",
       "Code                                                                                                2   \n",
       "Name                                                electricity production, hydro, pumped storage,...   \n",
       "Unit                                                                                    kilowatt hour   \n",
       "Amount                                                                                              1   \n",
       "(EDIP (obsolete), resource consumption, non-ren...                                        7.86662e-13   \n",
       "(EDIP (obsolete), resource consumption, non-ren...                                        1.59023e-10   \n",
       "(EDIP (obsolete), resource consumption, non-ren...                                        4.00645e-10   \n",
       "(EDIP (obsolete), resource consumption, non-ren...                                        1.22891e-06   \n",
       "(EDIP (obsolete), resource consumption, non-ren...                                                  0   \n",
       "(EDIP (obsolete), resource consumption, non-ren...                                        1.77778e-11   \n",
       "(EDIP (obsolete), resource consumption, non-ren...                                        0.000312186   \n",
       "(EDIP (obsolete), resource consumption, non-ren...                                        2.59844e-10   \n",
       "(EDIP (obsolete), resource consumption, non-ren...                                        2.93152e-07   \n",
       "(EDIP (obsolete), resource consumption, non-ren...                                        5.66405e-06   \n",
       "(EDIP (obsolete), resource consumption, non-ren...                                        3.11933e-13   \n",
       "(EDIP (obsolete), resource consumption, non-ren...                                        1.21611e-05   \n",
       "(EDIP (obsolete), resource consumption, non-ren...                                         8.6816e-12   \n",
       "(EDIP (obsolete), resource consumption, non-ren...                                         6.4688e-12   \n",
       "(EDIP (obsolete), resource consumption, non-ren...                                        9.02114e-10   \n",
       "(EDIP (obsolete), resource consumption, non-ren...                                        4.58419e-11   \n",
       "(EDIP (obsolete), resource consumption, non-ren...                                        5.23865e-09   \n",
       "(EDIP (obsolete), resource consumption, non-ren...                                        1.35927e-06   \n",
       "(EDIP (obsolete), resource consumption, non-ren...                                        5.00208e-06   \n",
       "(EDIP (obsolete), resource consumption, non-ren...                                        0.000253074   \n",
       "(EDIP (obsolete), resource consumption, non-ren...                                         0.00079336   \n",
       "(EDIP (obsolete), resource consumption, non-ren...                                         1.4501e-08   \n",
       "(EDIP (obsolete), resource consumption, non-ren...                                        0.000169162   \n",
       "(EDIP (obsolete), resource consumption, non-ren...                                        0.000478988   \n",
       "(EDIP (obsolete), resource consumption, renewab...                                        7.41325e-08   \n",
       "(ILCD 2.0 2018 midpoint, climate change, climat...                                          0.0361245   \n",
       "(cumulative energy demand, biomass, renewable e...                                         0.00083863   \n",
       "(cumulative energy demand, fossil, non-renewabl...                                          0.0477218   \n",
       "(cumulative energy demand, geothermal, renewabl...                                         6.6142e-05   \n",
       "(cumulative energy demand, nuclear, non-renewab...                                         0.00594691   \n",
       "(cumulative energy demand, primary forest, non-...                                        6.98938e-07   \n",
       "(cumulative energy demand, solar, renewable ene...                                         1.2387e-05   \n",
       "(cumulative energy demand, water, renewable ene...                                         0.00274552   \n",
       "(cumulative energy demand, wind, renewable ener...                                         0.00067654   \n",
       "(cumulative energy demand, total, energy resour...                                          0.0580086   \n",
       "(cumulative energy demand, electricity, total, ...                                          0.0228527   \n",
       "\n",
       "                                                                                                    2  \\\n",
       "Database                                                                               P2M Atmosphere   \n",
       "Code                                                                 055a72261a723d34e5241587049c16d9   \n",
       "Name                                                electricity production, methane, from thermo-c...   \n",
       "Unit                                                                                    kilowatt hour   \n",
       "Amount                                                                                              1   \n",
       "(EDIP (obsolete), resource consumption, non-ren...                                         2.0151e-09   \n",
       "(EDIP (obsolete), resource consumption, non-ren...                                        5.75206e-08   \n",
       "(EDIP (obsolete), resource consumption, non-ren...                                         4.8112e-07   \n",
       "(EDIP (obsolete), resource consumption, non-ren...                                         0.00220803   \n",
       "(EDIP (obsolete), resource consumption, non-ren...                                                  0   \n",
       "(EDIP (obsolete), resource consumption, non-ren...                                        2.04113e-07   \n",
       "(EDIP (obsolete), resource consumption, non-ren...                                         0.00867824   \n",
       "(EDIP (obsolete), resource consumption, non-ren...                                        3.15921e-07   \n",
       "(EDIP (obsolete), resource consumption, non-ren...                                        0.000109285   \n",
       "(EDIP (obsolete), resource consumption, non-ren...                                        0.000208768   \n",
       "(EDIP (obsolete), resource consumption, non-ren...                                        6.08113e-10   \n",
       "(EDIP (obsolete), resource consumption, non-ren...                                        0.000280608   \n",
       "(EDIP (obsolete), resource consumption, non-ren...                                        2.88114e-08   \n",
       "(EDIP (obsolete), resource consumption, non-ren...                                        3.93356e-08   \n",
       "(EDIP (obsolete), resource consumption, non-ren...                                        5.86699e-06   \n",
       "(EDIP (obsolete), resource consumption, non-ren...                                        3.60797e-06   \n",
       "(EDIP (obsolete), resource consumption, non-ren...                                        1.50474e-05   \n",
       "(EDIP (obsolete), resource consumption, non-ren...                                        0.000498007   \n",
       "(EDIP (obsolete), resource consumption, non-ren...                                         0.00605573   \n",
       "(EDIP (obsolete), resource consumption, non-ren...                                          0.0456776   \n",
       "(EDIP (obsolete), resource consumption, non-ren...                                           0.127688   \n",
       "(EDIP (obsolete), resource consumption, non-ren...                                         3.3169e-06   \n",
       "(EDIP (obsolete), resource consumption, non-ren...                                          0.0396405   \n",
       "(EDIP (obsolete), resource consumption, non-ren...                                          0.0275268   \n",
       "(EDIP (obsolete), resource consumption, renewab...                                        2.10812e-05   \n",
       "(ILCD 2.0 2018 midpoint, climate change, climat...                                           0.502818   \n",
       "(cumulative energy demand, biomass, renewable e...                                           0.246681   \n",
       "(cumulative energy demand, fossil, non-renewabl...                                            6.05311   \n",
       "(cumulative energy demand, geothermal, renewabl...                                          0.0101764   \n",
       "(cumulative energy demand, nuclear, non-renewab...                                             1.4529   \n",
       "(cumulative energy demand, primary forest, non-...                                        0.000188691   \n",
       "(cumulative energy demand, solar, renewable ene...                                            22.6104   \n",
       "(cumulative energy demand, water, renewable ene...                                            1.38015   \n",
       "(cumulative energy demand, wind, renewable ener...                                           0.113544   \n",
       "(cumulative energy demand, total, energy resour...                                            31.8671   \n",
       "(cumulative energy demand, electricity, total, ...                                            26.8345   \n",
       "\n",
       "                                                                                                    3  \n",
       "Database                                                                      P2M Atmosphere embodied  \n",
       "Code                                                                 055a72261a723d34e5241587049c16d9  \n",
       "Name                                                electricity production, methane, from thermo-c...  \n",
       "Unit                                                                                    kilowatt hour  \n",
       "Amount                                                                                              1  \n",
       "(EDIP (obsolete), resource consumption, non-ren...                                        1.21519e-11  \n",
       "(EDIP (obsolete), resource consumption, non-ren...                                         6.4122e-10  \n",
       "(EDIP (obsolete), resource consumption, non-ren...                                        2.84903e-08  \n",
       "(EDIP (obsolete), resource consumption, non-ren...                                        7.16185e-05  \n",
       "(EDIP (obsolete), resource consumption, non-ren...                                                  0  \n",
       "(EDIP (obsolete), resource consumption, non-ren...                                        2.98429e-09  \n",
       "(EDIP (obsolete), resource consumption, non-ren...                                         0.00136976  \n",
       "(EDIP (obsolete), resource consumption, non-ren...                                         1.9803e-08  \n",
       "(EDIP (obsolete), resource consumption, non-ren...                                        1.21621e-06  \n",
       "(EDIP (obsolete), resource consumption, non-ren...                                        2.87249e-05  \n",
       "(EDIP (obsolete), resource consumption, non-ren...                                        7.08188e-11  \n",
       "(EDIP (obsolete), resource consumption, non-ren...                                        0.000156293  \n",
       "(EDIP (obsolete), resource consumption, non-ren...                                        2.59044e-08  \n",
       "(EDIP (obsolete), resource consumption, non-ren...                                          3.788e-08  \n",
       "(EDIP (obsolete), resource consumption, non-ren...                                        1.77414e-08  \n",
       "(EDIP (obsolete), resource consumption, non-ren...                                         8.9142e-09  \n",
       "(EDIP (obsolete), resource consumption, non-ren...                                         7.9196e-08  \n",
       "(EDIP (obsolete), resource consumption, non-ren...                                        5.56014e-06  \n",
       "(EDIP (obsolete), resource consumption, non-ren...                                        0.000842103  \n",
       "(EDIP (obsolete), resource consumption, non-ren...                                         0.00197365  \n",
       "(EDIP (obsolete), resource consumption, non-ren...                                         0.00636842  \n",
       "(EDIP (obsolete), resource consumption, non-ren...                                         3.7189e-07  \n",
       "(EDIP (obsolete), resource consumption, non-ren...                                         0.00255075  \n",
       "(EDIP (obsolete), resource consumption, non-ren...                                         0.00298388  \n",
       "(EDIP (obsolete), resource consumption, renewab...                                        4.92529e-07  \n",
       "(ILCD 2.0 2018 midpoint, climate change, climat...                                          0.0250775  \n",
       "(cumulative energy demand, biomass, renewable e...                                          0.0056419  \n",
       "(cumulative energy demand, fossil, non-renewabl...                                           0.400043  \n",
       "(cumulative energy demand, geothermal, renewabl...                                        0.000209799  \n",
       "(cumulative energy demand, nuclear, non-renewab...                                          0.0544829  \n",
       "(cumulative energy demand, primary forest, non-...                                         3.5562e-06  \n",
       "(cumulative energy demand, solar, renewable ene...                                        0.000117233  \n",
       "(cumulative energy demand, water, renewable ene...                                          0.0575175  \n",
       "(cumulative energy demand, wind, renewable ener...                                         0.00273858  \n",
       "(cumulative energy demand, total, energy resour...                                           0.520755  \n",
       "(cumulative energy demand, electricity, total, ...                                           0.223989  "
      ]
     },
     "execution_count": 92,
     "metadata": {},
     "output_type": "execute_result"
    }
   ],
   "source": [
    "scores = pd.DataFrame(Energy_storage_LCA.results, columns=Energy_storage_LCA.methods)\n",
    "as_activities = [\n",
    "    (bw.get_activity(key), amount) \n",
    "    for dct in Energy_storage_LCA.func_units \n",
    "    for key, amount in dct.items()\n",
    "]\n",
    "nicer_fu = pd.DataFrame(\n",
    "    [\n",
    "        (x['database'], x['code'], x['name'], x['unit'], y) \n",
    "        for x, y in as_activities\n",
    "    ], \n",
    "    columns=('Database', 'Code', 'Name', 'Unit', 'Amount')\n",
    ")\n",
    "pd.concat([nicer_fu, scores], axis=1).T"
   ]
  },
  {
   "cell_type": "markdown",
   "metadata": {},
   "source": [
    "# Performing LCA2: for battery\n",
    "\n",
    "Functional unit is storage capacity\n",
    "\n",
    "NMC111: 0.143 kWh/kg\n",
    "\n",
    "NMC811: 0.149 kWh/kg\n",
    "\n",
    "NCA: 0.159 kWh/kg"
   ]
  },
  {
   "cell_type": "code",
   "execution_count": 95,
   "metadata": {
    "scrolled": false
   },
   "outputs": [
    {
     "data": {
      "text/plain": [
       "[{('Empa Battery Database',\n",
       "   '418c1f5539e61f1f7a79f81295efcf59'): 6.993006993006993},\n",
       " {('Empa Battery Database',\n",
       "   'ca52eed1ad12b485efd2d2d1ce6044c9'): 6.7114093959731544},\n",
       " {('Empa Battery Database',\n",
       "   '041b991f89f99a68f54d69e88a7eb38f'): 6.289308176100628},\n",
       " {('Empa Battery Database', '418c1f5539e61f1f7a79f81295efcf59'): 1},\n",
       " {('Empa Battery Database', 'ca52eed1ad12b485efd2d2d1ce6044c9'): 1},\n",
       " {('Empa Battery Database', '041b991f89f99a68f54d69e88a7eb38f'): 1}]"
      ]
     },
     "execution_count": 95,
     "metadata": {},
     "output_type": "execute_result"
    }
   ],
   "source": [
    "list_functional_units2 = [{NMC111.key:1/0.143},{NMC811.key:1/0.149},{NCA.key:1/0.159},{NMC111.key:1},{NMC811.key:1},{NCA.key:1}]\n",
    "list_functional_units2"
   ]
  },
  {
   "cell_type": "code",
   "execution_count": 96,
   "metadata": {},
   "outputs": [],
   "source": [
    "bw.calculation_setups['battery_storage_LCA'] = {'inv':list_functional_units2, 'ia':list_methods}"
   ]
  },
  {
   "cell_type": "code",
   "execution_count": 97,
   "metadata": {},
   "outputs": [],
   "source": [
    "battery_storage_LCA = bw.MultiLCA('battery_storage_LCA')"
   ]
  },
  {
   "cell_type": "code",
   "execution_count": 98,
   "metadata": {},
   "outputs": [
    {
     "data": {
      "text/plain": [
       "(6, 36)"
      ]
     },
     "execution_count": 98,
     "metadata": {},
     "output_type": "execute_result"
    }
   ],
   "source": [
    "battery_storage_LCA.results.shape"
   ]
  },
  {
   "cell_type": "code",
   "execution_count": 99,
   "metadata": {},
   "outputs": [],
   "source": [
    "battery_results = battery_storage_LCA.results"
   ]
  },
  {
   "cell_type": "code",
   "execution_count": 100,
   "metadata": {
    "scrolled": true
   },
   "outputs": [
    {
     "data": {
      "text/html": [
       "<div>\n",
       "<style scoped>\n",
       "    .dataframe tbody tr th:only-of-type {\n",
       "        vertical-align: middle;\n",
       "    }\n",
       "\n",
       "    .dataframe tbody tr th {\n",
       "        vertical-align: top;\n",
       "    }\n",
       "\n",
       "    .dataframe thead th {\n",
       "        text-align: right;\n",
       "    }\n",
       "</style>\n",
       "<table border=\"1\" class=\"dataframe\">\n",
       "  <thead>\n",
       "    <tr style=\"text-align: right;\">\n",
       "      <th></th>\n",
       "      <th>0</th>\n",
       "      <th>1</th>\n",
       "      <th>2</th>\n",
       "      <th>3</th>\n",
       "      <th>4</th>\n",
       "      <th>5</th>\n",
       "    </tr>\n",
       "  </thead>\n",
       "  <tbody>\n",
       "    <tr>\n",
       "      <th>Database</th>\n",
       "      <td>Empa Battery Database</td>\n",
       "      <td>Empa Battery Database</td>\n",
       "      <td>Empa Battery Database</td>\n",
       "      <td>Empa Battery Database</td>\n",
       "      <td>Empa Battery Database</td>\n",
       "      <td>Empa Battery Database</td>\n",
       "    </tr>\n",
       "    <tr>\n",
       "      <th>Code</th>\n",
       "      <td>418c1f5539e61f1f7a79f81295efcf59</td>\n",
       "      <td>ca52eed1ad12b485efd2d2d1ce6044c9</td>\n",
       "      <td>041b991f89f99a68f54d69e88a7eb38f</td>\n",
       "      <td>418c1f5539e61f1f7a79f81295efcf59</td>\n",
       "      <td>ca52eed1ad12b485efd2d2d1ce6044c9</td>\n",
       "      <td>041b991f89f99a68f54d69e88a7eb38f</td>\n",
       "    </tr>\n",
       "    <tr>\n",
       "      <th>Name</th>\n",
       "      <td>battery, Li-ion, NMC111, rechargeable, prismatic</td>\n",
       "      <td>battery, Li-ion, NMC811, rechargeable, prismatic</td>\n",
       "      <td>battery, Li-ion, NCA, rechargeable, prismatic</td>\n",
       "      <td>battery, Li-ion, NMC111, rechargeable, prismatic</td>\n",
       "      <td>battery, Li-ion, NMC811, rechargeable, prismatic</td>\n",
       "      <td>battery, Li-ion, NCA, rechargeable, prismatic</td>\n",
       "    </tr>\n",
       "    <tr>\n",
       "      <th>Unit</th>\n",
       "      <td>kilogram</td>\n",
       "      <td>kilogram</td>\n",
       "      <td>kilogram</td>\n",
       "      <td>kilogram</td>\n",
       "      <td>kilogram</td>\n",
       "      <td>kilogram</td>\n",
       "    </tr>\n",
       "    <tr>\n",
       "      <th>Amount</th>\n",
       "      <td>6.99301</td>\n",
       "      <td>6.71141</td>\n",
       "      <td>6.28931</td>\n",
       "      <td>1</td>\n",
       "      <td>1</td>\n",
       "      <td>1</td>\n",
       "    </tr>\n",
       "    <tr>\n",
       "      <th>(EDIP (obsolete), resource consumption, non-renewable resources, antimony)</th>\n",
       "      <td>4.75123e-07</td>\n",
       "      <td>4.18148e-07</td>\n",
       "      <td>4.23441e-07</td>\n",
       "      <td>6.79426e-08</td>\n",
       "      <td>6.2304e-08</td>\n",
       "      <td>6.73271e-08</td>\n",
       "    </tr>\n",
       "    <tr>\n",
       "      <th>(EDIP (obsolete), resource consumption, non-renewable resources, cadmium)</th>\n",
       "      <td>1.86288e-05</td>\n",
       "      <td>1.66649e-05</td>\n",
       "      <td>1.67918e-05</td>\n",
       "      <td>2.66392e-06</td>\n",
       "      <td>2.48307e-06</td>\n",
       "      <td>2.6699e-06</td>\n",
       "    </tr>\n",
       "    <tr>\n",
       "      <th>(EDIP (obsolete), resource consumption, non-renewable resources, cerium)</th>\n",
       "      <td>0.000214997</td>\n",
       "      <td>0.000264727</td>\n",
       "      <td>0.000246695</td>\n",
       "      <td>3.07446e-05</td>\n",
       "      <td>3.94443e-05</td>\n",
       "      <td>3.92245e-05</td>\n",
       "    </tr>\n",
       "    <tr>\n",
       "      <th>(EDIP (obsolete), resource consumption, non-renewable resources, copper)</th>\n",
       "      <td>2.96759</td>\n",
       "      <td>2.04877</td>\n",
       "      <td>2.17363</td>\n",
       "      <td>0.424366</td>\n",
       "      <td>0.305267</td>\n",
       "      <td>0.345607</td>\n",
       "    </tr>\n",
       "    <tr>\n",
       "      <th>(EDIP (obsolete), resource consumption, non-renewable resources, molybdenum)</th>\n",
       "      <td>0</td>\n",
       "      <td>0</td>\n",
       "      <td>0</td>\n",
       "      <td>0</td>\n",
       "      <td>0</td>\n",
       "      <td>0</td>\n",
       "    </tr>\n",
       "    <tr>\n",
       "      <th>(EDIP (obsolete), resource consumption, non-renewable resources, gold)</th>\n",
       "      <td>0.000123249</td>\n",
       "      <td>0.000119339</td>\n",
       "      <td>0.000119977</td>\n",
       "      <td>1.76246e-05</td>\n",
       "      <td>1.77816e-05</td>\n",
       "      <td>1.90763e-05</td>\n",
       "    </tr>\n",
       "    <tr>\n",
       "      <th>(EDIP (obsolete), resource consumption, non-renewable resources, iron)</th>\n",
       "      <td>30.9422</td>\n",
       "      <td>18.408</td>\n",
       "      <td>20.3598</td>\n",
       "      <td>4.42473</td>\n",
       "      <td>2.74279</td>\n",
       "      <td>3.23721</td>\n",
       "    </tr>\n",
       "    <tr>\n",
       "      <th>(EDIP (obsolete), resource consumption, non-renewable resources, lanthanum)</th>\n",
       "      <td>0.000143306</td>\n",
       "      <td>0.000178447</td>\n",
       "      <td>0.000166668</td>\n",
       "      <td>2.04927e-05</td>\n",
       "      <td>2.65886e-05</td>\n",
       "      <td>2.65002e-05</td>\n",
       "    </tr>\n",
       "    <tr>\n",
       "      <th>(EDIP (obsolete), resource consumption, non-renewable resources, lead)</th>\n",
       "      <td>0.0376437</td>\n",
       "      <td>0.0330073</td>\n",
       "      <td>0.033391</td>\n",
       "      <td>0.00538305</td>\n",
       "      <td>0.00491808</td>\n",
       "      <td>0.00530917</td>\n",
       "    </tr>\n",
       "    <tr>\n",
       "      <th>(EDIP (obsolete), resource consumption, non-renewable resources, manganese)</th>\n",
       "      <td>0.74248</td>\n",
       "      <td>0.254025</td>\n",
       "      <td>0.119841</td>\n",
       "      <td>0.106175</td>\n",
       "      <td>0.0378497</td>\n",
       "      <td>0.0190548</td>\n",
       "    </tr>\n",
       "    <tr>\n",
       "      <th>(EDIP (obsolete), resource consumption, non-renewable resources, mercury)</th>\n",
       "      <td>3.82153e-07</td>\n",
       "      <td>3.57137e-07</td>\n",
       "      <td>3.29635e-07</td>\n",
       "      <td>5.46479e-08</td>\n",
       "      <td>5.32134e-08</td>\n",
       "      <td>5.24119e-08</td>\n",
       "    </tr>\n",
       "    <tr>\n",
       "      <th>(EDIP (obsolete), resource consumption, non-renewable resources, nickel)</th>\n",
       "      <td>1.20499</td>\n",
       "      <td>0.746586</td>\n",
       "      <td>0.81835</td>\n",
       "      <td>0.172313</td>\n",
       "      <td>0.111241</td>\n",
       "      <td>0.130118</td>\n",
       "    </tr>\n",
       "    <tr>\n",
       "      <th>(EDIP (obsolete), resource consumption, non-renewable resources, palladium)</th>\n",
       "      <td>4.36985e-06</td>\n",
       "      <td>6.49756e-06</td>\n",
       "      <td>6.1936e-06</td>\n",
       "      <td>6.24888e-07</td>\n",
       "      <td>9.68136e-07</td>\n",
       "      <td>9.84783e-07</td>\n",
       "    </tr>\n",
       "    <tr>\n",
       "      <th>(EDIP (obsolete), resource consumption, non-renewable resources, platinum)</th>\n",
       "      <td>2.7747e-06</td>\n",
       "      <td>3.79197e-06</td>\n",
       "      <td>3.64124e-06</td>\n",
       "      <td>3.96781e-07</td>\n",
       "      <td>5.65004e-07</td>\n",
       "      <td>5.78958e-07</td>\n",
       "    </tr>\n",
       "    <tr>\n",
       "      <th>(EDIP (obsolete), resource consumption, non-renewable resources, silver)</th>\n",
       "      <td>0.00115808</td>\n",
       "      <td>0.00111102</td>\n",
       "      <td>0.00110867</td>\n",
       "      <td>0.000165605</td>\n",
       "      <td>0.000165541</td>\n",
       "      <td>0.000176279</td>\n",
       "    </tr>\n",
       "    <tr>\n",
       "      <th>(EDIP (obsolete), resource consumption, non-renewable resources, tantalum)</th>\n",
       "      <td>0.00330167</td>\n",
       "      <td>0.00323269</td>\n",
       "      <td>0.00316539</td>\n",
       "      <td>0.000472139</td>\n",
       "      <td>0.000481671</td>\n",
       "      <td>0.000503297</td>\n",
       "    </tr>\n",
       "    <tr>\n",
       "      <th>(EDIP (obsolete), resource consumption, non-renewable resources, tin)</th>\n",
       "      <td>0.00633029</td>\n",
       "      <td>0.00613902</td>\n",
       "      <td>0.00616218</td>\n",
       "      <td>0.000905231</td>\n",
       "      <td>0.000914714</td>\n",
       "      <td>0.000979786</td>\n",
       "    </tr>\n",
       "    <tr>\n",
       "      <th>(EDIP (obsolete), resource consumption, non-renewable resources, zinc)</th>\n",
       "      <td>0.165799</td>\n",
       "      <td>0.147017</td>\n",
       "      <td>0.148385</td>\n",
       "      <td>0.0237093</td>\n",
       "      <td>0.0219055</td>\n",
       "      <td>0.0235932</td>\n",
       "    </tr>\n",
       "    <tr>\n",
       "      <th>(EDIP (obsolete), resource consumption, non-renewable resources, aluminium)</th>\n",
       "      <td>2.26129</td>\n",
       "      <td>1.8638</td>\n",
       "      <td>1.86955</td>\n",
       "      <td>0.323364</td>\n",
       "      <td>0.277706</td>\n",
       "      <td>0.297259</td>\n",
       "    </tr>\n",
       "    <tr>\n",
       "      <th>(EDIP (obsolete), resource consumption, non-renewable resources, brown coal)</th>\n",
       "      <td>5.03063</td>\n",
       "      <td>4.53285</td>\n",
       "      <td>4.50866</td>\n",
       "      <td>0.719381</td>\n",
       "      <td>0.675394</td>\n",
       "      <td>0.716876</td>\n",
       "    </tr>\n",
       "    <tr>\n",
       "      <th>(EDIP (obsolete), resource consumption, non-renewable resources, coal)</th>\n",
       "      <td>32.3647</td>\n",
       "      <td>29.8462</td>\n",
       "      <td>29.2085</td>\n",
       "      <td>4.62816</td>\n",
       "      <td>4.44709</td>\n",
       "      <td>4.64415</td>\n",
       "    </tr>\n",
       "    <tr>\n",
       "      <th>(EDIP (obsolete), resource consumption, non-renewable resources, cobalt)</th>\n",
       "      <td>0.0999823</td>\n",
       "      <td>0.0586178</td>\n",
       "      <td>0.0650929</td>\n",
       "      <td>0.0142975</td>\n",
       "      <td>0.00873405</td>\n",
       "      <td>0.0103498</td>\n",
       "    </tr>\n",
       "    <tr>\n",
       "      <th>(EDIP (obsolete), resource consumption, non-renewable resources, natural gas)</th>\n",
       "      <td>12.3728</td>\n",
       "      <td>10.034</td>\n",
       "      <td>10.0625</td>\n",
       "      <td>1.76932</td>\n",
       "      <td>1.49507</td>\n",
       "      <td>1.59994</td>\n",
       "    </tr>\n",
       "    <tr>\n",
       "      <th>(EDIP (obsolete), resource consumption, non-renewable resources, oil)</th>\n",
       "      <td>7.54265</td>\n",
       "      <td>6.19216</td>\n",
       "      <td>6.34513</td>\n",
       "      <td>1.0786</td>\n",
       "      <td>0.922632</td>\n",
       "      <td>1.00888</td>\n",
       "    </tr>\n",
       "    <tr>\n",
       "      <th>(EDIP (obsolete), resource consumption, renewable resources, wood)</th>\n",
       "      <td>0.00320068</td>\n",
       "      <td>0.00309207</td>\n",
       "      <td>0.00311034</td>\n",
       "      <td>0.000457697</td>\n",
       "      <td>0.000460718</td>\n",
       "      <td>0.000494544</td>\n",
       "    </tr>\n",
       "    <tr>\n",
       "      <th>(ILCD 2.0 2018 midpoint, climate change, climate change total)</th>\n",
       "      <td>124.74</td>\n",
       "      <td>110.97</td>\n",
       "      <td>110.12</td>\n",
       "      <td>17.8378</td>\n",
       "      <td>16.5345</td>\n",
       "      <td>17.509</td>\n",
       "    </tr>\n",
       "    <tr>\n",
       "      <th>(cumulative energy demand, biomass, renewable energy resources, biomass)</th>\n",
       "      <td>35.0197</td>\n",
       "      <td>35.2332</td>\n",
       "      <td>35.3212</td>\n",
       "      <td>5.00782</td>\n",
       "      <td>5.24975</td>\n",
       "      <td>5.61607</td>\n",
       "    </tr>\n",
       "    <tr>\n",
       "      <th>(cumulative energy demand, fossil, non-renewable energy resources, fossil)</th>\n",
       "      <td>1606.58</td>\n",
       "      <td>1379.58</td>\n",
       "      <td>1375.53</td>\n",
       "      <td>229.741</td>\n",
       "      <td>205.557</td>\n",
       "      <td>218.71</td>\n",
       "    </tr>\n",
       "    <tr>\n",
       "      <th>(cumulative energy demand, geothermal, renewable energy resources, geothermal, converted)</th>\n",
       "      <td>1.18514</td>\n",
       "      <td>1.0512</td>\n",
       "      <td>1.05726</td>\n",
       "      <td>0.169475</td>\n",
       "      <td>0.156629</td>\n",
       "      <td>0.168104</td>\n",
       "    </tr>\n",
       "    <tr>\n",
       "      <th>(cumulative energy demand, nuclear, non-renewable energy resources, nuclear)</th>\n",
       "      <td>246.168</td>\n",
       "      <td>173.622</td>\n",
       "      <td>182.784</td>\n",
       "      <td>35.2021</td>\n",
       "      <td>25.8696</td>\n",
       "      <td>29.0627</td>\n",
       "    </tr>\n",
       "    <tr>\n",
       "      <th>(cumulative energy demand, primary forest, non-renewable energy resources, primary forest)</th>\n",
       "      <td>0.0252318</td>\n",
       "      <td>0.0228815</td>\n",
       "      <td>0.0225649</td>\n",
       "      <td>0.00360815</td>\n",
       "      <td>0.00340934</td>\n",
       "      <td>0.00358783</td>\n",
       "    </tr>\n",
       "    <tr>\n",
       "      <th>(cumulative energy demand, solar, renewable energy resources, solar, converted)</th>\n",
       "      <td>0.267037</td>\n",
       "      <td>0.240325</td>\n",
       "      <td>0.236692</td>\n",
       "      <td>0.0381864</td>\n",
       "      <td>0.0358084</td>\n",
       "      <td>0.037634</td>\n",
       "    </tr>\n",
       "    <tr>\n",
       "      <th>(cumulative energy demand, water, renewable energy resources, potential (in barrage water), converted)</th>\n",
       "      <td>948.399</td>\n",
       "      <td>578.95</td>\n",
       "      <td>634.425</td>\n",
       "      <td>135.621</td>\n",
       "      <td>86.2635</td>\n",
       "      <td>100.874</td>\n",
       "    </tr>\n",
       "    <tr>\n",
       "      <th>(cumulative energy demand, wind, renewable energy resources, kinetic (in wind), converted)</th>\n",
       "      <td>28.4046</td>\n",
       "      <td>20.5678</td>\n",
       "      <td>21.4516</td>\n",
       "      <td>4.06186</td>\n",
       "      <td>3.0646</td>\n",
       "      <td>3.41081</td>\n",
       "    </tr>\n",
       "    <tr>\n",
       "      <th>(cumulative energy demand, total, energy resources, total)</th>\n",
       "      <td>2866.05</td>\n",
       "      <td>2189.26</td>\n",
       "      <td>2250.83</td>\n",
       "      <td>409.845</td>\n",
       "      <td>326.2</td>\n",
       "      <td>357.882</td>\n",
       "    </tr>\n",
       "    <tr>\n",
       "      <th>(cumulative energy demand, electricity, total, energy resources, total)</th>\n",
       "      <td>1646.62</td>\n",
       "      <td>1163.57</td>\n",
       "      <td>1221.52</td>\n",
       "      <td>235.467</td>\n",
       "      <td>173.371</td>\n",
       "      <td>194.221</td>\n",
       "    </tr>\n",
       "  </tbody>\n",
       "</table>\n",
       "</div>"
      ],
      "text/plain": [
       "                                                                                                   0  \\\n",
       "Database                                                                       Empa Battery Database   \n",
       "Code                                                                418c1f5539e61f1f7a79f81295efcf59   \n",
       "Name                                                battery, Li-ion, NMC111, rechargeable, prismatic   \n",
       "Unit                                                                                        kilogram   \n",
       "Amount                                                                                       6.99301   \n",
       "(EDIP (obsolete), resource consumption, non-ren...                                       4.75123e-07   \n",
       "(EDIP (obsolete), resource consumption, non-ren...                                       1.86288e-05   \n",
       "(EDIP (obsolete), resource consumption, non-ren...                                       0.000214997   \n",
       "(EDIP (obsolete), resource consumption, non-ren...                                           2.96759   \n",
       "(EDIP (obsolete), resource consumption, non-ren...                                                 0   \n",
       "(EDIP (obsolete), resource consumption, non-ren...                                       0.000123249   \n",
       "(EDIP (obsolete), resource consumption, non-ren...                                           30.9422   \n",
       "(EDIP (obsolete), resource consumption, non-ren...                                       0.000143306   \n",
       "(EDIP (obsolete), resource consumption, non-ren...                                         0.0376437   \n",
       "(EDIP (obsolete), resource consumption, non-ren...                                           0.74248   \n",
       "(EDIP (obsolete), resource consumption, non-ren...                                       3.82153e-07   \n",
       "(EDIP (obsolete), resource consumption, non-ren...                                           1.20499   \n",
       "(EDIP (obsolete), resource consumption, non-ren...                                       4.36985e-06   \n",
       "(EDIP (obsolete), resource consumption, non-ren...                                        2.7747e-06   \n",
       "(EDIP (obsolete), resource consumption, non-ren...                                        0.00115808   \n",
       "(EDIP (obsolete), resource consumption, non-ren...                                        0.00330167   \n",
       "(EDIP (obsolete), resource consumption, non-ren...                                        0.00633029   \n",
       "(EDIP (obsolete), resource consumption, non-ren...                                          0.165799   \n",
       "(EDIP (obsolete), resource consumption, non-ren...                                           2.26129   \n",
       "(EDIP (obsolete), resource consumption, non-ren...                                           5.03063   \n",
       "(EDIP (obsolete), resource consumption, non-ren...                                           32.3647   \n",
       "(EDIP (obsolete), resource consumption, non-ren...                                         0.0999823   \n",
       "(EDIP (obsolete), resource consumption, non-ren...                                           12.3728   \n",
       "(EDIP (obsolete), resource consumption, non-ren...                                           7.54265   \n",
       "(EDIP (obsolete), resource consumption, renewab...                                        0.00320068   \n",
       "(ILCD 2.0 2018 midpoint, climate change, climat...                                            124.74   \n",
       "(cumulative energy demand, biomass, renewable e...                                           35.0197   \n",
       "(cumulative energy demand, fossil, non-renewabl...                                           1606.58   \n",
       "(cumulative energy demand, geothermal, renewabl...                                           1.18514   \n",
       "(cumulative energy demand, nuclear, non-renewab...                                           246.168   \n",
       "(cumulative energy demand, primary forest, non-...                                         0.0252318   \n",
       "(cumulative energy demand, solar, renewable ene...                                          0.267037   \n",
       "(cumulative energy demand, water, renewable ene...                                           948.399   \n",
       "(cumulative energy demand, wind, renewable ener...                                           28.4046   \n",
       "(cumulative energy demand, total, energy resour...                                           2866.05   \n",
       "(cumulative energy demand, electricity, total, ...                                           1646.62   \n",
       "\n",
       "                                                                                                   1  \\\n",
       "Database                                                                       Empa Battery Database   \n",
       "Code                                                                ca52eed1ad12b485efd2d2d1ce6044c9   \n",
       "Name                                                battery, Li-ion, NMC811, rechargeable, prismatic   \n",
       "Unit                                                                                        kilogram   \n",
       "Amount                                                                                       6.71141   \n",
       "(EDIP (obsolete), resource consumption, non-ren...                                       4.18148e-07   \n",
       "(EDIP (obsolete), resource consumption, non-ren...                                       1.66649e-05   \n",
       "(EDIP (obsolete), resource consumption, non-ren...                                       0.000264727   \n",
       "(EDIP (obsolete), resource consumption, non-ren...                                           2.04877   \n",
       "(EDIP (obsolete), resource consumption, non-ren...                                                 0   \n",
       "(EDIP (obsolete), resource consumption, non-ren...                                       0.000119339   \n",
       "(EDIP (obsolete), resource consumption, non-ren...                                            18.408   \n",
       "(EDIP (obsolete), resource consumption, non-ren...                                       0.000178447   \n",
       "(EDIP (obsolete), resource consumption, non-ren...                                         0.0330073   \n",
       "(EDIP (obsolete), resource consumption, non-ren...                                          0.254025   \n",
       "(EDIP (obsolete), resource consumption, non-ren...                                       3.57137e-07   \n",
       "(EDIP (obsolete), resource consumption, non-ren...                                          0.746586   \n",
       "(EDIP (obsolete), resource consumption, non-ren...                                       6.49756e-06   \n",
       "(EDIP (obsolete), resource consumption, non-ren...                                       3.79197e-06   \n",
       "(EDIP (obsolete), resource consumption, non-ren...                                        0.00111102   \n",
       "(EDIP (obsolete), resource consumption, non-ren...                                        0.00323269   \n",
       "(EDIP (obsolete), resource consumption, non-ren...                                        0.00613902   \n",
       "(EDIP (obsolete), resource consumption, non-ren...                                          0.147017   \n",
       "(EDIP (obsolete), resource consumption, non-ren...                                            1.8638   \n",
       "(EDIP (obsolete), resource consumption, non-ren...                                           4.53285   \n",
       "(EDIP (obsolete), resource consumption, non-ren...                                           29.8462   \n",
       "(EDIP (obsolete), resource consumption, non-ren...                                         0.0586178   \n",
       "(EDIP (obsolete), resource consumption, non-ren...                                            10.034   \n",
       "(EDIP (obsolete), resource consumption, non-ren...                                           6.19216   \n",
       "(EDIP (obsolete), resource consumption, renewab...                                        0.00309207   \n",
       "(ILCD 2.0 2018 midpoint, climate change, climat...                                            110.97   \n",
       "(cumulative energy demand, biomass, renewable e...                                           35.2332   \n",
       "(cumulative energy demand, fossil, non-renewabl...                                           1379.58   \n",
       "(cumulative energy demand, geothermal, renewabl...                                            1.0512   \n",
       "(cumulative energy demand, nuclear, non-renewab...                                           173.622   \n",
       "(cumulative energy demand, primary forest, non-...                                         0.0228815   \n",
       "(cumulative energy demand, solar, renewable ene...                                          0.240325   \n",
       "(cumulative energy demand, water, renewable ene...                                            578.95   \n",
       "(cumulative energy demand, wind, renewable ener...                                           20.5678   \n",
       "(cumulative energy demand, total, energy resour...                                           2189.26   \n",
       "(cumulative energy demand, electricity, total, ...                                           1163.57   \n",
       "\n",
       "                                                                                                2  \\\n",
       "Database                                                                    Empa Battery Database   \n",
       "Code                                                             041b991f89f99a68f54d69e88a7eb38f   \n",
       "Name                                                battery, Li-ion, NCA, rechargeable, prismatic   \n",
       "Unit                                                                                     kilogram   \n",
       "Amount                                                                                    6.28931   \n",
       "(EDIP (obsolete), resource consumption, non-ren...                                    4.23441e-07   \n",
       "(EDIP (obsolete), resource consumption, non-ren...                                    1.67918e-05   \n",
       "(EDIP (obsolete), resource consumption, non-ren...                                    0.000246695   \n",
       "(EDIP (obsolete), resource consumption, non-ren...                                        2.17363   \n",
       "(EDIP (obsolete), resource consumption, non-ren...                                              0   \n",
       "(EDIP (obsolete), resource consumption, non-ren...                                    0.000119977   \n",
       "(EDIP (obsolete), resource consumption, non-ren...                                        20.3598   \n",
       "(EDIP (obsolete), resource consumption, non-ren...                                    0.000166668   \n",
       "(EDIP (obsolete), resource consumption, non-ren...                                       0.033391   \n",
       "(EDIP (obsolete), resource consumption, non-ren...                                       0.119841   \n",
       "(EDIP (obsolete), resource consumption, non-ren...                                    3.29635e-07   \n",
       "(EDIP (obsolete), resource consumption, non-ren...                                        0.81835   \n",
       "(EDIP (obsolete), resource consumption, non-ren...                                     6.1936e-06   \n",
       "(EDIP (obsolete), resource consumption, non-ren...                                    3.64124e-06   \n",
       "(EDIP (obsolete), resource consumption, non-ren...                                     0.00110867   \n",
       "(EDIP (obsolete), resource consumption, non-ren...                                     0.00316539   \n",
       "(EDIP (obsolete), resource consumption, non-ren...                                     0.00616218   \n",
       "(EDIP (obsolete), resource consumption, non-ren...                                       0.148385   \n",
       "(EDIP (obsolete), resource consumption, non-ren...                                        1.86955   \n",
       "(EDIP (obsolete), resource consumption, non-ren...                                        4.50866   \n",
       "(EDIP (obsolete), resource consumption, non-ren...                                        29.2085   \n",
       "(EDIP (obsolete), resource consumption, non-ren...                                      0.0650929   \n",
       "(EDIP (obsolete), resource consumption, non-ren...                                        10.0625   \n",
       "(EDIP (obsolete), resource consumption, non-ren...                                        6.34513   \n",
       "(EDIP (obsolete), resource consumption, renewab...                                     0.00311034   \n",
       "(ILCD 2.0 2018 midpoint, climate change, climat...                                         110.12   \n",
       "(cumulative energy demand, biomass, renewable e...                                        35.3212   \n",
       "(cumulative energy demand, fossil, non-renewabl...                                        1375.53   \n",
       "(cumulative energy demand, geothermal, renewabl...                                        1.05726   \n",
       "(cumulative energy demand, nuclear, non-renewab...                                        182.784   \n",
       "(cumulative energy demand, primary forest, non-...                                      0.0225649   \n",
       "(cumulative energy demand, solar, renewable ene...                                       0.236692   \n",
       "(cumulative energy demand, water, renewable ene...                                        634.425   \n",
       "(cumulative energy demand, wind, renewable ener...                                        21.4516   \n",
       "(cumulative energy demand, total, energy resour...                                        2250.83   \n",
       "(cumulative energy demand, electricity, total, ...                                        1221.52   \n",
       "\n",
       "                                                                                                   3  \\\n",
       "Database                                                                       Empa Battery Database   \n",
       "Code                                                                418c1f5539e61f1f7a79f81295efcf59   \n",
       "Name                                                battery, Li-ion, NMC111, rechargeable, prismatic   \n",
       "Unit                                                                                        kilogram   \n",
       "Amount                                                                                             1   \n",
       "(EDIP (obsolete), resource consumption, non-ren...                                       6.79426e-08   \n",
       "(EDIP (obsolete), resource consumption, non-ren...                                       2.66392e-06   \n",
       "(EDIP (obsolete), resource consumption, non-ren...                                       3.07446e-05   \n",
       "(EDIP (obsolete), resource consumption, non-ren...                                          0.424366   \n",
       "(EDIP (obsolete), resource consumption, non-ren...                                                 0   \n",
       "(EDIP (obsolete), resource consumption, non-ren...                                       1.76246e-05   \n",
       "(EDIP (obsolete), resource consumption, non-ren...                                           4.42473   \n",
       "(EDIP (obsolete), resource consumption, non-ren...                                       2.04927e-05   \n",
       "(EDIP (obsolete), resource consumption, non-ren...                                        0.00538305   \n",
       "(EDIP (obsolete), resource consumption, non-ren...                                          0.106175   \n",
       "(EDIP (obsolete), resource consumption, non-ren...                                       5.46479e-08   \n",
       "(EDIP (obsolete), resource consumption, non-ren...                                          0.172313   \n",
       "(EDIP (obsolete), resource consumption, non-ren...                                       6.24888e-07   \n",
       "(EDIP (obsolete), resource consumption, non-ren...                                       3.96781e-07   \n",
       "(EDIP (obsolete), resource consumption, non-ren...                                       0.000165605   \n",
       "(EDIP (obsolete), resource consumption, non-ren...                                       0.000472139   \n",
       "(EDIP (obsolete), resource consumption, non-ren...                                       0.000905231   \n",
       "(EDIP (obsolete), resource consumption, non-ren...                                         0.0237093   \n",
       "(EDIP (obsolete), resource consumption, non-ren...                                          0.323364   \n",
       "(EDIP (obsolete), resource consumption, non-ren...                                          0.719381   \n",
       "(EDIP (obsolete), resource consumption, non-ren...                                           4.62816   \n",
       "(EDIP (obsolete), resource consumption, non-ren...                                         0.0142975   \n",
       "(EDIP (obsolete), resource consumption, non-ren...                                           1.76932   \n",
       "(EDIP (obsolete), resource consumption, non-ren...                                            1.0786   \n",
       "(EDIP (obsolete), resource consumption, renewab...                                       0.000457697   \n",
       "(ILCD 2.0 2018 midpoint, climate change, climat...                                           17.8378   \n",
       "(cumulative energy demand, biomass, renewable e...                                           5.00782   \n",
       "(cumulative energy demand, fossil, non-renewabl...                                           229.741   \n",
       "(cumulative energy demand, geothermal, renewabl...                                          0.169475   \n",
       "(cumulative energy demand, nuclear, non-renewab...                                           35.2021   \n",
       "(cumulative energy demand, primary forest, non-...                                        0.00360815   \n",
       "(cumulative energy demand, solar, renewable ene...                                         0.0381864   \n",
       "(cumulative energy demand, water, renewable ene...                                           135.621   \n",
       "(cumulative energy demand, wind, renewable ener...                                           4.06186   \n",
       "(cumulative energy demand, total, energy resour...                                           409.845   \n",
       "(cumulative energy demand, electricity, total, ...                                           235.467   \n",
       "\n",
       "                                                                                                   4  \\\n",
       "Database                                                                       Empa Battery Database   \n",
       "Code                                                                ca52eed1ad12b485efd2d2d1ce6044c9   \n",
       "Name                                                battery, Li-ion, NMC811, rechargeable, prismatic   \n",
       "Unit                                                                                        kilogram   \n",
       "Amount                                                                                             1   \n",
       "(EDIP (obsolete), resource consumption, non-ren...                                        6.2304e-08   \n",
       "(EDIP (obsolete), resource consumption, non-ren...                                       2.48307e-06   \n",
       "(EDIP (obsolete), resource consumption, non-ren...                                       3.94443e-05   \n",
       "(EDIP (obsolete), resource consumption, non-ren...                                          0.305267   \n",
       "(EDIP (obsolete), resource consumption, non-ren...                                                 0   \n",
       "(EDIP (obsolete), resource consumption, non-ren...                                       1.77816e-05   \n",
       "(EDIP (obsolete), resource consumption, non-ren...                                           2.74279   \n",
       "(EDIP (obsolete), resource consumption, non-ren...                                       2.65886e-05   \n",
       "(EDIP (obsolete), resource consumption, non-ren...                                        0.00491808   \n",
       "(EDIP (obsolete), resource consumption, non-ren...                                         0.0378497   \n",
       "(EDIP (obsolete), resource consumption, non-ren...                                       5.32134e-08   \n",
       "(EDIP (obsolete), resource consumption, non-ren...                                          0.111241   \n",
       "(EDIP (obsolete), resource consumption, non-ren...                                       9.68136e-07   \n",
       "(EDIP (obsolete), resource consumption, non-ren...                                       5.65004e-07   \n",
       "(EDIP (obsolete), resource consumption, non-ren...                                       0.000165541   \n",
       "(EDIP (obsolete), resource consumption, non-ren...                                       0.000481671   \n",
       "(EDIP (obsolete), resource consumption, non-ren...                                       0.000914714   \n",
       "(EDIP (obsolete), resource consumption, non-ren...                                         0.0219055   \n",
       "(EDIP (obsolete), resource consumption, non-ren...                                          0.277706   \n",
       "(EDIP (obsolete), resource consumption, non-ren...                                          0.675394   \n",
       "(EDIP (obsolete), resource consumption, non-ren...                                           4.44709   \n",
       "(EDIP (obsolete), resource consumption, non-ren...                                        0.00873405   \n",
       "(EDIP (obsolete), resource consumption, non-ren...                                           1.49507   \n",
       "(EDIP (obsolete), resource consumption, non-ren...                                          0.922632   \n",
       "(EDIP (obsolete), resource consumption, renewab...                                       0.000460718   \n",
       "(ILCD 2.0 2018 midpoint, climate change, climat...                                           16.5345   \n",
       "(cumulative energy demand, biomass, renewable e...                                           5.24975   \n",
       "(cumulative energy demand, fossil, non-renewabl...                                           205.557   \n",
       "(cumulative energy demand, geothermal, renewabl...                                          0.156629   \n",
       "(cumulative energy demand, nuclear, non-renewab...                                           25.8696   \n",
       "(cumulative energy demand, primary forest, non-...                                        0.00340934   \n",
       "(cumulative energy demand, solar, renewable ene...                                         0.0358084   \n",
       "(cumulative energy demand, water, renewable ene...                                           86.2635   \n",
       "(cumulative energy demand, wind, renewable ener...                                            3.0646   \n",
       "(cumulative energy demand, total, energy resour...                                             326.2   \n",
       "(cumulative energy demand, electricity, total, ...                                           173.371   \n",
       "\n",
       "                                                                                                5  \n",
       "Database                                                                    Empa Battery Database  \n",
       "Code                                                             041b991f89f99a68f54d69e88a7eb38f  \n",
       "Name                                                battery, Li-ion, NCA, rechargeable, prismatic  \n",
       "Unit                                                                                     kilogram  \n",
       "Amount                                                                                          1  \n",
       "(EDIP (obsolete), resource consumption, non-ren...                                    6.73271e-08  \n",
       "(EDIP (obsolete), resource consumption, non-ren...                                     2.6699e-06  \n",
       "(EDIP (obsolete), resource consumption, non-ren...                                    3.92245e-05  \n",
       "(EDIP (obsolete), resource consumption, non-ren...                                       0.345607  \n",
       "(EDIP (obsolete), resource consumption, non-ren...                                              0  \n",
       "(EDIP (obsolete), resource consumption, non-ren...                                    1.90763e-05  \n",
       "(EDIP (obsolete), resource consumption, non-ren...                                        3.23721  \n",
       "(EDIP (obsolete), resource consumption, non-ren...                                    2.65002e-05  \n",
       "(EDIP (obsolete), resource consumption, non-ren...                                     0.00530917  \n",
       "(EDIP (obsolete), resource consumption, non-ren...                                      0.0190548  \n",
       "(EDIP (obsolete), resource consumption, non-ren...                                    5.24119e-08  \n",
       "(EDIP (obsolete), resource consumption, non-ren...                                       0.130118  \n",
       "(EDIP (obsolete), resource consumption, non-ren...                                    9.84783e-07  \n",
       "(EDIP (obsolete), resource consumption, non-ren...                                    5.78958e-07  \n",
       "(EDIP (obsolete), resource consumption, non-ren...                                    0.000176279  \n",
       "(EDIP (obsolete), resource consumption, non-ren...                                    0.000503297  \n",
       "(EDIP (obsolete), resource consumption, non-ren...                                    0.000979786  \n",
       "(EDIP (obsolete), resource consumption, non-ren...                                      0.0235932  \n",
       "(EDIP (obsolete), resource consumption, non-ren...                                       0.297259  \n",
       "(EDIP (obsolete), resource consumption, non-ren...                                       0.716876  \n",
       "(EDIP (obsolete), resource consumption, non-ren...                                        4.64415  \n",
       "(EDIP (obsolete), resource consumption, non-ren...                                      0.0103498  \n",
       "(EDIP (obsolete), resource consumption, non-ren...                                        1.59994  \n",
       "(EDIP (obsolete), resource consumption, non-ren...                                        1.00888  \n",
       "(EDIP (obsolete), resource consumption, renewab...                                    0.000494544  \n",
       "(ILCD 2.0 2018 midpoint, climate change, climat...                                         17.509  \n",
       "(cumulative energy demand, biomass, renewable e...                                        5.61607  \n",
       "(cumulative energy demand, fossil, non-renewabl...                                         218.71  \n",
       "(cumulative energy demand, geothermal, renewabl...                                       0.168104  \n",
       "(cumulative energy demand, nuclear, non-renewab...                                        29.0627  \n",
       "(cumulative energy demand, primary forest, non-...                                     0.00358783  \n",
       "(cumulative energy demand, solar, renewable ene...                                       0.037634  \n",
       "(cumulative energy demand, water, renewable ene...                                        100.874  \n",
       "(cumulative energy demand, wind, renewable ener...                                        3.41081  \n",
       "(cumulative energy demand, total, energy resour...                                        357.882  \n",
       "(cumulative energy demand, electricity, total, ...                                        194.221  "
      ]
     },
     "execution_count": 100,
     "metadata": {},
     "output_type": "execute_result"
    }
   ],
   "source": [
    "scores2 = pd.DataFrame(battery_storage_LCA.results, columns=battery_storage_LCA.methods )\n",
    "as_activities = [\n",
    "    (bw.get_activity(key), amount) \n",
    "    for dct in battery_storage_LCA.func_units \n",
    "    for key, amount in dct.items()\n",
    "]\n",
    "nicer_fu = pd.DataFrame(\n",
    "    [\n",
    "        (x['database'], x['code'], x['name'], x['unit'], y) \n",
    "        for x, y in as_activities\n",
    "    ], \n",
    "    columns=('Database', 'Code', 'Name', 'Unit', 'Amount')\n",
    ")\n",
    "pd.concat([nicer_fu, scores2], axis=1).T"
   ]
  },
  {
   "cell_type": "markdown",
   "metadata": {},
   "source": [
    "Calculating total CED"
   ]
  },
  {
   "cell_type": "code",
   "execution_count": 102,
   "metadata": {},
   "outputs": [
    {
     "data": {
      "text/plain": [
       "array([34])"
      ]
     },
     "execution_count": 102,
     "metadata": {},
     "output_type": "execute_result"
    }
   ],
   "source": [
    "battery_index_CED = np.zeros(1, dtype=int)\n",
    "m_i=0\n",
    "i=0\n",
    "for m in battery_storage_LCA.methods:\n",
    "    if 'cumulative energy demand' in str(m) and 'total' in str(m) and 'electricity' not in str(m):\n",
    "        battery_index_CED[i] = m_i\n",
    "        i+=1\n",
    "    m_i+=1\n",
    "\n",
    "battery_index_CED"
   ]
  },
  {
   "cell_type": "code",
   "execution_count": 103,
   "metadata": {
    "scrolled": true
   },
   "outputs": [
    {
     "data": {
      "text/plain": [
       "array([[2866.05131227],\n",
       "       [2189.26342135],\n",
       "       [2250.82993901],\n",
       "       [ 409.84533765],\n",
       "       [ 326.20024978],\n",
       "       [ 357.8819603 ]])"
      ]
     },
     "execution_count": 103,
     "metadata": {},
     "output_type": "execute_result"
    }
   ],
   "source": [
    "battery_CED_total = battery_results[:,battery_index_CED]\n",
    "battery_CED_total"
   ]
  },
  {
   "cell_type": "code",
   "execution_count": 104,
   "metadata": {},
   "outputs": [
    {
     "data": {
      "text/plain": [
       "array([35])"
      ]
     },
     "execution_count": 104,
     "metadata": {},
     "output_type": "execute_result"
    }
   ],
   "source": [
    "battery_index_CED_el = np.zeros(1, dtype=int)\n",
    "m_i=0\n",
    "i=0\n",
    "for m in battery_storage_LCA.methods:\n",
    "    if 'cumulative energy demand' in str(m) and 'total' in str(m) and 'electricity' in str(m):\n",
    "        battery_index_CED_el[i] = m_i\n",
    "        i+=1\n",
    "    m_i+=1\n",
    "\n",
    "battery_index_CED_el"
   ]
  },
  {
   "cell_type": "code",
   "execution_count": 105,
   "metadata": {},
   "outputs": [
    {
     "data": {
      "text/plain": [
       "array([[1646.62226106],\n",
       "       [1163.56593853],\n",
       "       [1221.51658671],\n",
       "       [ 235.46698333],\n",
       "       [ 173.37132484],\n",
       "       [ 194.22113729]])"
      ]
     },
     "execution_count": 105,
     "metadata": {},
     "output_type": "execute_result"
    }
   ],
   "source": [
    "battery_CED_el_total = battery_results[:,battery_index_CED_el]\n",
    "battery_CED_el_total"
   ]
  },
  {
   "cell_type": "markdown",
   "metadata": {},
   "source": [
    "converting the results into embodied energy per storage capacity (i.e. the functional unit of 1 kWh of storage capacity); therefore converting CED_el (which is in MJ) into kWh (1 MJ = 1/3.6 kWh) "
   ]
  },
  {
   "cell_type": "code",
   "execution_count": 106,
   "metadata": {},
   "outputs": [
    {
     "data": {
      "text/plain": [
       "array([[457.39507252],\n",
       "       [323.2127607 ],\n",
       "       [339.31016298],\n",
       "       [ 65.40749537],\n",
       "       [ 48.15870134],\n",
       "       [ 53.95031591]])"
      ]
     },
     "execution_count": 106,
     "metadata": {},
     "output_type": "execute_result"
    }
   ],
   "source": [
    "battery_embodied_energy_per_storage_capacity = battery_CED_el_total / 3.6\n",
    "battery_embodied_energy_per_storage_capacity"
   ]
  },
  {
   "cell_type": "code",
   "execution_count": 107,
   "metadata": {
    "scrolled": false
   },
   "outputs": [
    {
     "data": {
      "text/html": [
       "<div>\n",
       "<style scoped>\n",
       "    .dataframe tbody tr th:only-of-type {\n",
       "        vertical-align: middle;\n",
       "    }\n",
       "\n",
       "    .dataframe tbody tr th {\n",
       "        vertical-align: top;\n",
       "    }\n",
       "\n",
       "    .dataframe thead th {\n",
       "        text-align: right;\n",
       "    }\n",
       "</style>\n",
       "<table border=\"1\" class=\"dataframe\">\n",
       "  <thead>\n",
       "    <tr style=\"text-align: right;\">\n",
       "      <th></th>\n",
       "      <th>0</th>\n",
       "      <th>1</th>\n",
       "      <th>2</th>\n",
       "      <th>3</th>\n",
       "      <th>4</th>\n",
       "      <th>5</th>\n",
       "    </tr>\n",
       "  </thead>\n",
       "  <tbody>\n",
       "    <tr>\n",
       "      <th>Database</th>\n",
       "      <td>Empa Battery Database</td>\n",
       "      <td>Empa Battery Database</td>\n",
       "      <td>Empa Battery Database</td>\n",
       "      <td>Empa Battery Database</td>\n",
       "      <td>Empa Battery Database</td>\n",
       "      <td>Empa Battery Database</td>\n",
       "    </tr>\n",
       "    <tr>\n",
       "      <th>Name</th>\n",
       "      <td>battery, Li-ion, NMC111, rechargeable, prismatic</td>\n",
       "      <td>battery, Li-ion, NMC811, rechargeable, prismatic</td>\n",
       "      <td>battery, Li-ion, NCA, rechargeable, prismatic</td>\n",
       "      <td>battery, Li-ion, NMC111, rechargeable, prismatic</td>\n",
       "      <td>battery, Li-ion, NMC811, rechargeable, prismatic</td>\n",
       "      <td>battery, Li-ion, NCA, rechargeable, prismatic</td>\n",
       "    </tr>\n",
       "    <tr>\n",
       "      <th>Unit</th>\n",
       "      <td>kilogram</td>\n",
       "      <td>kilogram</td>\n",
       "      <td>kilogram</td>\n",
       "      <td>kilogram</td>\n",
       "      <td>kilogram</td>\n",
       "      <td>kilogram</td>\n",
       "    </tr>\n",
       "    <tr>\n",
       "      <th>Amount</th>\n",
       "      <td>6.99301</td>\n",
       "      <td>6.71141</td>\n",
       "      <td>6.28931</td>\n",
       "      <td>1</td>\n",
       "      <td>1</td>\n",
       "      <td>1</td>\n",
       "    </tr>\n",
       "    <tr>\n",
       "      <th>((cumulative energy demand, total, energy resources, total), MJ-eq)</th>\n",
       "      <td>2866.05</td>\n",
       "      <td>2189.26</td>\n",
       "      <td>2250.83</td>\n",
       "      <td>409.845</td>\n",
       "      <td>326.2</td>\n",
       "      <td>357.882</td>\n",
       "    </tr>\n",
       "    <tr>\n",
       "      <th>((cumulative energy demand, electricity, total, energy resources, total), MJ-eq)</th>\n",
       "      <td>1646.62</td>\n",
       "      <td>1163.57</td>\n",
       "      <td>1221.52</td>\n",
       "      <td>235.467</td>\n",
       "      <td>173.371</td>\n",
       "      <td>194.221</td>\n",
       "    </tr>\n",
       "    <tr>\n",
       "      <th>embodied energy per storage capacity</th>\n",
       "      <td>457.395</td>\n",
       "      <td>323.213</td>\n",
       "      <td>339.31</td>\n",
       "      <td>65.4075</td>\n",
       "      <td>48.1587</td>\n",
       "      <td>53.9503</td>\n",
       "    </tr>\n",
       "  </tbody>\n",
       "</table>\n",
       "</div>"
      ],
      "text/plain": [
       "                                                                                                   0  \\\n",
       "Database                                                                       Empa Battery Database   \n",
       "Name                                                battery, Li-ion, NMC111, rechargeable, prismatic   \n",
       "Unit                                                                                        kilogram   \n",
       "Amount                                                                                       6.99301   \n",
       "((cumulative energy demand, total, energy resou...                                           2866.05   \n",
       "((cumulative energy demand, electricity, total,...                                           1646.62   \n",
       "embodied energy per storage capacity                                                         457.395   \n",
       "\n",
       "                                                                                                   1  \\\n",
       "Database                                                                       Empa Battery Database   \n",
       "Name                                                battery, Li-ion, NMC811, rechargeable, prismatic   \n",
       "Unit                                                                                        kilogram   \n",
       "Amount                                                                                       6.71141   \n",
       "((cumulative energy demand, total, energy resou...                                           2189.26   \n",
       "((cumulative energy demand, electricity, total,...                                           1163.57   \n",
       "embodied energy per storage capacity                                                         323.213   \n",
       "\n",
       "                                                                                                2  \\\n",
       "Database                                                                    Empa Battery Database   \n",
       "Name                                                battery, Li-ion, NCA, rechargeable, prismatic   \n",
       "Unit                                                                                     kilogram   \n",
       "Amount                                                                                    6.28931   \n",
       "((cumulative energy demand, total, energy resou...                                        2250.83   \n",
       "((cumulative energy demand, electricity, total,...                                        1221.52   \n",
       "embodied energy per storage capacity                                                       339.31   \n",
       "\n",
       "                                                                                                   3  \\\n",
       "Database                                                                       Empa Battery Database   \n",
       "Name                                                battery, Li-ion, NMC111, rechargeable, prismatic   \n",
       "Unit                                                                                        kilogram   \n",
       "Amount                                                                                             1   \n",
       "((cumulative energy demand, total, energy resou...                                           409.845   \n",
       "((cumulative energy demand, electricity, total,...                                           235.467   \n",
       "embodied energy per storage capacity                                                         65.4075   \n",
       "\n",
       "                                                                                                   4  \\\n",
       "Database                                                                       Empa Battery Database   \n",
       "Name                                                battery, Li-ion, NMC811, rechargeable, prismatic   \n",
       "Unit                                                                                        kilogram   \n",
       "Amount                                                                                             1   \n",
       "((cumulative energy demand, total, energy resou...                                             326.2   \n",
       "((cumulative energy demand, electricity, total,...                                           173.371   \n",
       "embodied energy per storage capacity                                                         48.1587   \n",
       "\n",
       "                                                                                                5  \n",
       "Database                                                                    Empa Battery Database  \n",
       "Name                                                battery, Li-ion, NCA, rechargeable, prismatic  \n",
       "Unit                                                                                     kilogram  \n",
       "Amount                                                                                          1  \n",
       "((cumulative energy demand, total, energy resou...                                        357.882  \n",
       "((cumulative energy demand, electricity, total,...                                        194.221  \n",
       "embodied energy per storage capacity                                                      53.9503  "
      ]
     },
     "execution_count": 107,
     "metadata": {},
     "output_type": "execute_result"
    }
   ],
   "source": [
    "scores = pd.DataFrame(battery_storage_LCA.results[:,battery_index_CED[0]], columns= [(battery_storage_LCA.methods[battery_index_CED[0]], bw.Method(battery_storage_LCA.methods[battery_index_CED[0]]).metadata['unit'])])\n",
    "scores2 = pd.DataFrame(battery_storage_LCA.results[:,battery_index_CED_el[0]], columns= [(battery_storage_LCA.methods[battery_index_CED_el[0]], bw.Method(battery_storage_LCA.methods[battery_index_CED_el[0]]).metadata['unit'])])\n",
    "scores3 = pd.DataFrame(battery_embodied_energy_per_storage_capacity, columns=['embodied energy per storage capacity'])\n",
    "header = pd.DataFrame(\n",
    "    [\n",
    "        (x['database'], x['name'], x['unit'], y) \n",
    "        for x, y in [\n",
    "            (bw.get_activity(key), amount) \n",
    "            for dct in battery_storage_LCA.func_units \n",
    "            for key, amount in dct.items()\n",
    "            ]\n",
    "    ], \n",
    "    columns=('Database','Name', 'Unit', 'Amount')\n",
    ")\n",
    "pd.concat([header, scores, scores2, scores3], axis=1).T"
   ]
  }
 ],
 "metadata": {
  "kernelspec": {
   "display_name": "Python 3",
   "language": "python",
   "name": "python3"
  },
  "language_info": {
   "codemirror_mode": {
    "name": "ipython",
    "version": 3
   },
   "file_extension": ".py",
   "mimetype": "text/x-python",
   "name": "python",
   "nbconvert_exporter": "python",
   "pygments_lexer": "ipython3",
   "version": "3.6.9"
  }
 },
 "nbformat": 4,
 "nbformat_minor": 2
}
